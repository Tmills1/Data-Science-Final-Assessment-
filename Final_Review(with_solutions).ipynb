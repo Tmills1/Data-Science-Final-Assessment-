{
  "nbformat": 4,
  "nbformat_minor": 0,
  "metadata": {
    "colab": {
      "provenance": [],
      "include_colab_link": true
    },
    "kernelspec": {
      "name": "python3",
      "display_name": "Python 3"
    },
    "language_info": {
      "name": "python"
    }
  },
  "cells": [
    {
      "cell_type": "markdown",
      "metadata": {
        "id": "view-in-github",
        "colab_type": "text"
      },
      "source": [
        "<a href=\"https://colab.research.google.com/github/Tmills1/Data-Science-Final-Assessment-/blob/main/Final_Review(with_solutions).ipynb\" target=\"_parent\"><img src=\"https://colab.research.google.com/assets/colab-badge.svg\" alt=\"Open In Colab\"/></a>"
      ]
    },
    {
      "cell_type": "markdown",
      "source": [
        "```\n",
        "BEGIN ASSIGNMENT\n",
        "generate: true\n",
        "files:\n",
        "    - california_housing.csv\n",
        "    - loan_default.csv\n",
        "```\n"
      ],
      "metadata": {
        "id": "PUhAnwGxVVlz"
      }
    },
    {
      "cell_type": "markdown",
      "source": [
        "# College Advantage (Foundations of Data Science) Final Assessment\n",
        "\n",
        "In this assessment, you will explore the fundamental concepts and techniques used in data visualization, hypothesis testing, regression analysis and classification. These statistical methods play a crucial role in understanding relationships between variables, making predictions, and drawing conclusions from data. Throughout this exercise, you will have the opportunity to apply your knowledge, critical thinking, and analytical skills to solve various problems and interpret statistical results. Good luck, and let's begin this journey !\n",
        "\n",
        "In this assessment, you will investigate two problems, house price estimation and loan default tendencies.\n",
        "\n",
        "Here is a roadmap for this project:\n",
        "\n",
        "* In Part 1, You will explore the housing dataand assess the validity of a several claims partaining to housing prices in california. You will also be required to determine whether there is enough evidence to support or reject these claims.\n",
        "* In Part 2, Given the california housing dataset, you will be required to build a regression model to predict the average price of houses.\n",
        "* In Part 3, you will look at a case study of loan default prediction, you will apply hypothesis testing to evaluate the validity of various claims related to loan defaulters. Your task will be to determine if there is sufficient evidence to support or reject these claims based on the available data.\n",
        "* In Part 4, Given the loan default dataset, you will be required to build a k-Nearest Neighbors classifier to predict the tendency of a customer defaulting on loan payment."
      ],
      "metadata": {
        "id": "_rAyhloIVexk"
      }
    },
    {
      "cell_type": "markdown",
      "source": [
        "Let's begin by mounting our drive. This will help us retrieve the necessary dataset from our google drive."
      ],
      "metadata": {
        "id": "EeMthzW5AV5B"
      }
    },
    {
      "cell_type": "code",
      "execution_count": null,
      "metadata": {
        "colab": {
          "base_uri": "https://localhost:8080/"
        },
        "id": "Q7cGf0ZwqNUA",
        "outputId": "47d1efb5-7207-4e63-937a-ab97e2fd3e53"
      },
      "outputs": [
        {
          "output_type": "stream",
          "name": "stdout",
          "text": [
            "Mounted at /content/drive\n"
          ]
        }
      ],
      "source": [
        "from google.colab import drive\n",
        "drive.mount('/content/drive')"
      ]
    },
    {
      "cell_type": "code",
      "execution_count": null,
      "metadata": {
        "id": "yycVx_9JqWWL"
      },
      "outputs": [],
      "source": [
        "import os\n",
        "# os.chdir(\"/content/drive/MyDrive/InclusionBridgeMasterFolder/CollegeAdvantageMaterials/CA 2023/InclusionBridgePrepResources/Coaches/datasets\")\n",
        "os.chdir(\"/content/drive/MyDrive/InclusionBridgePrepResources/Coaches/datasets\")"
      ]
    },
    {
      "cell_type": "code",
      "execution_count": null,
      "metadata": {
        "id": "tBS5p8AsTOb-"
      },
      "outputs": [],
      "source": [
        "import numpy as np\n",
        "import pandas as pd\n",
        "from matplotlib import pyplot as plt\n",
        "\n",
        "%matplotlib inline"
      ]
    },
    {
      "cell_type": "markdown",
      "metadata": {
        "id": "-bA-S6_NAEtn"
      },
      "source": [
        "## Part 1: Regression Analysis: A Case study of house prices in California.\n",
        "\n",
        "Housing has been a topic of concern for all Californians due to the rising prices. It leads to the question: why are homes in California so expensive?\n",
        "\n",
        "The California Housing Dataset uses information from the 1990 census. We may be able to use the data to develop insight into how housing value is distributed throughout California. The data set contains 10 features of 11,496 observations. Each observation is a single block within California.\n",
        "\n",
        "All of the features are quantitative aside from ocean_proximity, which is an categorical variable containing three classes: `INLAND`, `NEAR BAY`, and `NEAR OCEAN`. The data to be used in this section pertains to the houses found in a given California district and some summary stats about them based on the 1990 census data. The features in the housing dataset include:\n",
        "\n",
        "- **longitude**: A measure of how far west a house is; a higher value is farther west.\n",
        "\n",
        "- **latitude**: A measure of how far north a house is; a higher value is farther north.\n",
        "\n",
        "- **housing_median_age**: Median age of a house within a block; a lower number is a newer building.\n",
        "\n",
        "- **total_rooms**: Total number of rooms within a block.\n",
        "\n",
        "- **total_bedrooms**: Total number of bedrooms within a block.\n",
        "\n",
        "- **population**: Total number of people residing within a block.\n",
        "\n",
        "- **households**: Total number of households, a group of people residing within a home unit, for a block.\n",
        "\n",
        "- **median_income**: Median income for households within a block of houses (measured in tens of thousands of US Dollars).\n",
        "\n",
        "- **median_house_value**: Median house value for households within a block (measured in US Dollars).\n",
        "\n",
        "- **ocean_proximity**: Location of the house with respect to the ocean/sea\n",
        "\n",
        "Let's start by reading the housing dataset."
      ]
    },
    {
      "cell_type": "code",
      "source": [
        "housing_data = pd.read_csv('california_housing.csv')\n",
        "housing_data.head()"
      ],
      "metadata": {
        "id": "rTBRKcPMau8J",
        "colab": {
          "base_uri": "https://localhost:8080/",
          "height": 206
        },
        "outputId": "2899043d-40d5-4daf-b11a-7c438bb0da03"
      },
      "execution_count": null,
      "outputs": [
        {
          "output_type": "execute_result",
          "data": {
            "text/plain": [
              "   longitude  latitude  housing_median_age  total_rooms  total_bedrooms  \\\n",
              "0    -122.23     37.88                41.0        880.0           129.0   \n",
              "1    -122.22     37.86                21.0       7099.0          1106.0   \n",
              "2    -122.24     37.85                52.0       1467.0           190.0   \n",
              "3    -122.25     37.85                52.0       1274.0           235.0   \n",
              "4    -122.25     37.85                52.0       1627.0           280.0   \n",
              "\n",
              "   population  households  median_income  median_house_value ocean_proximity  \n",
              "0       322.0       126.0         8.3252            452600.0        NEAR BAY  \n",
              "1      2401.0      1138.0         8.3014            358500.0        NEAR BAY  \n",
              "2       496.0       177.0         7.2574            352100.0        NEAR BAY  \n",
              "3       558.0       219.0         5.6431            341300.0        NEAR BAY  \n",
              "4       565.0       259.0         3.8462            342200.0        NEAR BAY  "
            ],
            "text/html": [
              "\n",
              "\n",
              "  <div id=\"df-3a834235-4855-4c5e-b140-f5020f1dd28f\">\n",
              "    <div class=\"colab-df-container\">\n",
              "      <div>\n",
              "<style scoped>\n",
              "    .dataframe tbody tr th:only-of-type {\n",
              "        vertical-align: middle;\n",
              "    }\n",
              "\n",
              "    .dataframe tbody tr th {\n",
              "        vertical-align: top;\n",
              "    }\n",
              "\n",
              "    .dataframe thead th {\n",
              "        text-align: right;\n",
              "    }\n",
              "</style>\n",
              "<table border=\"1\" class=\"dataframe\">\n",
              "  <thead>\n",
              "    <tr style=\"text-align: right;\">\n",
              "      <th></th>\n",
              "      <th>longitude</th>\n",
              "      <th>latitude</th>\n",
              "      <th>housing_median_age</th>\n",
              "      <th>total_rooms</th>\n",
              "      <th>total_bedrooms</th>\n",
              "      <th>population</th>\n",
              "      <th>households</th>\n",
              "      <th>median_income</th>\n",
              "      <th>median_house_value</th>\n",
              "      <th>ocean_proximity</th>\n",
              "    </tr>\n",
              "  </thead>\n",
              "  <tbody>\n",
              "    <tr>\n",
              "      <th>0</th>\n",
              "      <td>-122.23</td>\n",
              "      <td>37.88</td>\n",
              "      <td>41.0</td>\n",
              "      <td>880.0</td>\n",
              "      <td>129.0</td>\n",
              "      <td>322.0</td>\n",
              "      <td>126.0</td>\n",
              "      <td>8.3252</td>\n",
              "      <td>452600.0</td>\n",
              "      <td>NEAR BAY</td>\n",
              "    </tr>\n",
              "    <tr>\n",
              "      <th>1</th>\n",
              "      <td>-122.22</td>\n",
              "      <td>37.86</td>\n",
              "      <td>21.0</td>\n",
              "      <td>7099.0</td>\n",
              "      <td>1106.0</td>\n",
              "      <td>2401.0</td>\n",
              "      <td>1138.0</td>\n",
              "      <td>8.3014</td>\n",
              "      <td>358500.0</td>\n",
              "      <td>NEAR BAY</td>\n",
              "    </tr>\n",
              "    <tr>\n",
              "      <th>2</th>\n",
              "      <td>-122.24</td>\n",
              "      <td>37.85</td>\n",
              "      <td>52.0</td>\n",
              "      <td>1467.0</td>\n",
              "      <td>190.0</td>\n",
              "      <td>496.0</td>\n",
              "      <td>177.0</td>\n",
              "      <td>7.2574</td>\n",
              "      <td>352100.0</td>\n",
              "      <td>NEAR BAY</td>\n",
              "    </tr>\n",
              "    <tr>\n",
              "      <th>3</th>\n",
              "      <td>-122.25</td>\n",
              "      <td>37.85</td>\n",
              "      <td>52.0</td>\n",
              "      <td>1274.0</td>\n",
              "      <td>235.0</td>\n",
              "      <td>558.0</td>\n",
              "      <td>219.0</td>\n",
              "      <td>5.6431</td>\n",
              "      <td>341300.0</td>\n",
              "      <td>NEAR BAY</td>\n",
              "    </tr>\n",
              "    <tr>\n",
              "      <th>4</th>\n",
              "      <td>-122.25</td>\n",
              "      <td>37.85</td>\n",
              "      <td>52.0</td>\n",
              "      <td>1627.0</td>\n",
              "      <td>280.0</td>\n",
              "      <td>565.0</td>\n",
              "      <td>259.0</td>\n",
              "      <td>3.8462</td>\n",
              "      <td>342200.0</td>\n",
              "      <td>NEAR BAY</td>\n",
              "    </tr>\n",
              "  </tbody>\n",
              "</table>\n",
              "</div>\n",
              "      <button class=\"colab-df-convert\" onclick=\"convertToInteractive('df-3a834235-4855-4c5e-b140-f5020f1dd28f')\"\n",
              "              title=\"Convert this dataframe to an interactive table.\"\n",
              "              style=\"display:none;\">\n",
              "\n",
              "  <svg xmlns=\"http://www.w3.org/2000/svg\" height=\"24px\"viewBox=\"0 0 24 24\"\n",
              "       width=\"24px\">\n",
              "    <path d=\"M0 0h24v24H0V0z\" fill=\"none\"/>\n",
              "    <path d=\"M18.56 5.44l.94 2.06.94-2.06 2.06-.94-2.06-.94-.94-2.06-.94 2.06-2.06.94zm-11 1L8.5 8.5l.94-2.06 2.06-.94-2.06-.94L8.5 2.5l-.94 2.06-2.06.94zm10 10l.94 2.06.94-2.06 2.06-.94-2.06-.94-.94-2.06-.94 2.06-2.06.94z\"/><path d=\"M17.41 7.96l-1.37-1.37c-.4-.4-.92-.59-1.43-.59-.52 0-1.04.2-1.43.59L10.3 9.45l-7.72 7.72c-.78.78-.78 2.05 0 2.83L4 21.41c.39.39.9.59 1.41.59.51 0 1.02-.2 1.41-.59l7.78-7.78 2.81-2.81c.8-.78.8-2.07 0-2.86zM5.41 20L4 18.59l7.72-7.72 1.47 1.35L5.41 20z\"/>\n",
              "  </svg>\n",
              "      </button>\n",
              "\n",
              "\n",
              "\n",
              "    <div id=\"df-3067020a-19c0-47a4-b728-aab3c3d00ad3\">\n",
              "      <button class=\"colab-df-quickchart\" onclick=\"quickchart('df-3067020a-19c0-47a4-b728-aab3c3d00ad3')\"\n",
              "              title=\"Suggest charts.\"\n",
              "              style=\"display:none;\">\n",
              "\n",
              "<svg xmlns=\"http://www.w3.org/2000/svg\" height=\"24px\"viewBox=\"0 0 24 24\"\n",
              "     width=\"24px\">\n",
              "    <g>\n",
              "        <path d=\"M19 3H5c-1.1 0-2 .9-2 2v14c0 1.1.9 2 2 2h14c1.1 0 2-.9 2-2V5c0-1.1-.9-2-2-2zM9 17H7v-7h2v7zm4 0h-2V7h2v10zm4 0h-2v-4h2v4z\"/>\n",
              "    </g>\n",
              "</svg>\n",
              "      </button>\n",
              "    </div>\n",
              "\n",
              "<style>\n",
              "  .colab-df-quickchart {\n",
              "    background-color: #E8F0FE;\n",
              "    border: none;\n",
              "    border-radius: 50%;\n",
              "    cursor: pointer;\n",
              "    display: none;\n",
              "    fill: #1967D2;\n",
              "    height: 32px;\n",
              "    padding: 0 0 0 0;\n",
              "    width: 32px;\n",
              "  }\n",
              "\n",
              "  .colab-df-quickchart:hover {\n",
              "    background-color: #E2EBFA;\n",
              "    box-shadow: 0px 1px 2px rgba(60, 64, 67, 0.3), 0px 1px 3px 1px rgba(60, 64, 67, 0.15);\n",
              "    fill: #174EA6;\n",
              "  }\n",
              "\n",
              "  [theme=dark] .colab-df-quickchart {\n",
              "    background-color: #3B4455;\n",
              "    fill: #D2E3FC;\n",
              "  }\n",
              "\n",
              "  [theme=dark] .colab-df-quickchart:hover {\n",
              "    background-color: #434B5C;\n",
              "    box-shadow: 0px 1px 3px 1px rgba(0, 0, 0, 0.15);\n",
              "    filter: drop-shadow(0px 1px 2px rgba(0, 0, 0, 0.3));\n",
              "    fill: #FFFFFF;\n",
              "  }\n",
              "</style>\n",
              "\n",
              "    <script>\n",
              "      async function quickchart(key) {\n",
              "        const containerElement = document.querySelector('#' + key);\n",
              "        const charts = await google.colab.kernel.invokeFunction(\n",
              "            'suggestCharts', [key], {});\n",
              "      }\n",
              "    </script>\n",
              "\n",
              "      <script>\n",
              "\n",
              "function displayQuickchartButton(domScope) {\n",
              "  let quickchartButtonEl =\n",
              "    domScope.querySelector('#df-3067020a-19c0-47a4-b728-aab3c3d00ad3 button.colab-df-quickchart');\n",
              "  quickchartButtonEl.style.display =\n",
              "    google.colab.kernel.accessAllowed ? 'block' : 'none';\n",
              "}\n",
              "\n",
              "        displayQuickchartButton(document);\n",
              "      </script>\n",
              "      <style>\n",
              "    .colab-df-container {\n",
              "      display:flex;\n",
              "      flex-wrap:wrap;\n",
              "      gap: 12px;\n",
              "    }\n",
              "\n",
              "    .colab-df-convert {\n",
              "      background-color: #E8F0FE;\n",
              "      border: none;\n",
              "      border-radius: 50%;\n",
              "      cursor: pointer;\n",
              "      display: none;\n",
              "      fill: #1967D2;\n",
              "      height: 32px;\n",
              "      padding: 0 0 0 0;\n",
              "      width: 32px;\n",
              "    }\n",
              "\n",
              "    .colab-df-convert:hover {\n",
              "      background-color: #E2EBFA;\n",
              "      box-shadow: 0px 1px 2px rgba(60, 64, 67, 0.3), 0px 1px 3px 1px rgba(60, 64, 67, 0.15);\n",
              "      fill: #174EA6;\n",
              "    }\n",
              "\n",
              "    [theme=dark] .colab-df-convert {\n",
              "      background-color: #3B4455;\n",
              "      fill: #D2E3FC;\n",
              "    }\n",
              "\n",
              "    [theme=dark] .colab-df-convert:hover {\n",
              "      background-color: #434B5C;\n",
              "      box-shadow: 0px 1px 3px 1px rgba(0, 0, 0, 0.15);\n",
              "      filter: drop-shadow(0px 1px 2px rgba(0, 0, 0, 0.3));\n",
              "      fill: #FFFFFF;\n",
              "    }\n",
              "  </style>\n",
              "\n",
              "      <script>\n",
              "        const buttonEl =\n",
              "          document.querySelector('#df-3a834235-4855-4c5e-b140-f5020f1dd28f button.colab-df-convert');\n",
              "        buttonEl.style.display =\n",
              "          google.colab.kernel.accessAllowed ? 'block' : 'none';\n",
              "\n",
              "        async function convertToInteractive(key) {\n",
              "          const element = document.querySelector('#df-3a834235-4855-4c5e-b140-f5020f1dd28f');\n",
              "          const dataTable =\n",
              "            await google.colab.kernel.invokeFunction('convertToInteractive',\n",
              "                                                     [key], {});\n",
              "          if (!dataTable) return;\n",
              "\n",
              "          const docLinkHtml = 'Like what you see? Visit the ' +\n",
              "            '<a target=\"_blank\" href=https://colab.research.google.com/notebooks/data_table.ipynb>data table notebook</a>'\n",
              "            + ' to learn more about interactive tables.';\n",
              "          element.innerHTML = '';\n",
              "          dataTable['output_type'] = 'display_data';\n",
              "          await google.colab.output.renderOutput(dataTable, element);\n",
              "          const docLink = document.createElement('div');\n",
              "          docLink.innerHTML = docLinkHtml;\n",
              "          element.appendChild(docLink);\n",
              "        }\n",
              "      </script>\n",
              "    </div>\n",
              "  </div>\n"
            ]
          },
          "metadata": {},
          "execution_count": 4
        }
      ]
    },
    {
      "cell_type": "markdown",
      "source": [
        "## Exercise 1: Data Cleaning\n",
        "Data cleaning, also known as data cleansing or data scrubbing, refers to the process of identifying and correcting or removing errors, inconsistencies, and inaccuracies in a dataset. It is a crucial step in data preprocessing, especially when working with large and complex datasets. In this section, you will search for inconsistencies in your data and handle them appropriately.\n",
        "\n",
        "**Exercise 1.1:** Investigate the nature of your data, are there missing values in the dataset? If there are, how many missing values are there in the each column?"
      ],
      "metadata": {
        "id": "F_ZFZeu7FCO6"
      }
    },
    {
      "cell_type": "code",
      "source": [
        "# Your solution here\n",
        "housing_data.isnull().sum()"
      ],
      "metadata": {
        "colab": {
          "base_uri": "https://localhost:8080/"
        },
        "id": "h7MByfjlFxDN",
        "outputId": "b1fa2c21-fe97-48e3-b7e8-7fc1b0a64876"
      },
      "execution_count": null,
      "outputs": [
        {
          "output_type": "execute_result",
          "data": {
            "text/plain": [
              "longitude               0\n",
              "latitude                0\n",
              "housing_median_age      0\n",
              "total_rooms             0\n",
              "total_bedrooms        105\n",
              "population              0\n",
              "households              0\n",
              "median_income           0\n",
              "median_house_value      0\n",
              "ocean_proximity         0\n",
              "dtype: int64"
            ]
          },
          "metadata": {},
          "execution_count": 5
        }
      ]
    },
    {
      "cell_type": "markdown",
      "source": [
        "**Exercise 1.2:** Replace the missing values with the median for each of the columns that you have identified."
      ],
      "metadata": {
        "id": "_hYX18NAGQW8"
      }
    },
    {
      "cell_type": "code",
      "source": [
        "# Your solution here\n",
        "median_ = housing_data[\"total_bedrooms\"].median()\n",
        "housing_data[\"total_bedrooms\"] = housing_data[\"total_bedrooms\"].fillna(median_)"
      ],
      "metadata": {
        "id": "9kxzmt6NGeGz"
      },
      "execution_count": null,
      "outputs": []
    },
    {
      "cell_type": "markdown",
      "source": [
        "## Exercise 2: Exploratory Data Analysis\n",
        "\n",
        "Exploratory Data Analysis (EDA) is a preliminary approach to analyzing and summarizing datasets to gain insights and understanding. It involves examining and visualizing the data to discover patterns, relationships, and anomalies. EDA is typically performed before formal statistical modeling or hypothesis testing and helps in formulating research questions and hypotheses. Overall, Exploratory Data Analysis helps in understanding the nature of the data, identifying key variables and trends, and formulating initial hypotheses or research directions. It provides an essential foundation for further analysis and decision-making."
      ],
      "metadata": {
        "id": "1eezLVTbHfrV"
      }
    },
    {
      "cell_type": "markdown",
      "source": [
        "**Exercise 2.2:** Identify the numerical and categorical variables in the dataset."
      ],
      "metadata": {
        "id": "yFakwVSFIi8i"
      }
    },
    {
      "cell_type": "code",
      "source": [
        "#Get numerical columns\n",
        "housing_data.select_dtypes(include=np.number).columns.tolist()"
      ],
      "metadata": {
        "colab": {
          "base_uri": "https://localhost:8080/"
        },
        "id": "Hc_Y0uAmXut3",
        "outputId": "5acd5147-c250-40ef-b53c-d463d4f38b3b"
      },
      "execution_count": null,
      "outputs": [
        {
          "output_type": "execute_result",
          "data": {
            "text/plain": [
              "['longitude',\n",
              " 'latitude',\n",
              " 'housing_median_age',\n",
              " 'total_rooms',\n",
              " 'total_bedrooms',\n",
              " 'population',\n",
              " 'households',\n",
              " 'median_income',\n",
              " 'median_house_value']"
            ]
          },
          "metadata": {},
          "execution_count": 8
        }
      ]
    },
    {
      "cell_type": "code",
      "source": [
        "#Get categorical columns\n",
        "housing_data.select_dtypes(include=\"object\").columns.tolist()"
      ],
      "metadata": {
        "colab": {
          "base_uri": "https://localhost:8080/"
        },
        "id": "dMzUIClBXo42",
        "outputId": "9a76ddc8-cdfb-443e-f1e2-61f55baac41b"
      },
      "execution_count": null,
      "outputs": [
        {
          "output_type": "execute_result",
          "data": {
            "text/plain": [
              "['ocean_proximity']"
            ]
          },
          "metadata": {},
          "execution_count": 9
        }
      ]
    },
    {
      "cell_type": "markdown",
      "source": [
        "**Exercise 2.2:** One of the aim of EDA is to summarize the main characteristics and properties of the dataset. This involves calculating descriptive statistics such as mean, median, standard deviation, and quartiles for numerical variables. Check the statistical summary of your data. Are there things that you observe?"
      ],
      "metadata": {
        "id": "NW-jV6D4IQdj"
      }
    },
    {
      "cell_type": "code",
      "source": [
        "housing_data.describe()"
      ],
      "metadata": {
        "colab": {
          "base_uri": "https://localhost:8080/",
          "height": 300
        },
        "id": "OBaHvyMUHbMb",
        "outputId": "d967934c-c93d-4946-89cc-368069e0662c"
      },
      "execution_count": null,
      "outputs": [
        {
          "output_type": "execute_result",
          "data": {
            "text/plain": [
              "          longitude      latitude  housing_median_age   total_rooms  \\\n",
              "count  11499.000000  11499.000000        11499.000000  11499.000000   \n",
              "mean    -120.143816     36.483990           28.125228   2642.119315   \n",
              "std        2.110753      2.199755           13.261344   2198.669531   \n",
              "min     -124.350000     32.540000            1.000000      2.000000   \n",
              "25%     -122.100000     34.130000           17.000000   1436.500000   \n",
              "50%     -120.930000     37.460000           27.000000   2144.000000   \n",
              "75%     -118.020000     37.970000           37.000000   3153.000000   \n",
              "max     -114.310000     41.950000           52.000000  39320.000000   \n",
              "\n",
              "       total_bedrooms    population    households  median_income  \\\n",
              "count    11499.000000  11499.000000  11499.000000   11499.000000   \n",
              "mean       530.135403   1350.476215    485.172450       3.585131   \n",
              "std        414.308390   1082.478529    373.674284       1.764025   \n",
              "min          1.000000      5.000000      1.000000       0.499900   \n",
              "25%        292.000000    730.000000    269.000000       2.368550   \n",
              "50%        431.000000   1105.000000    400.000000       3.256000   \n",
              "75%        640.000000   1631.000000    593.000000       4.366250   \n",
              "max       6210.000000  16305.000000   5358.000000      15.000100   \n",
              "\n",
              "       median_house_value  \n",
              "count        11499.000000  \n",
              "mean        180380.192104  \n",
              "std         115590.248346  \n",
              "min          14999.000000  \n",
              "25%          94200.000000  \n",
              "50%         143200.000000  \n",
              "75%         234350.000000  \n",
              "max         500001.000000  "
            ],
            "text/html": [
              "\n",
              "\n",
              "  <div id=\"df-9ffac22e-17e5-4bc0-8018-2a7c0f9f2bab\">\n",
              "    <div class=\"colab-df-container\">\n",
              "      <div>\n",
              "<style scoped>\n",
              "    .dataframe tbody tr th:only-of-type {\n",
              "        vertical-align: middle;\n",
              "    }\n",
              "\n",
              "    .dataframe tbody tr th {\n",
              "        vertical-align: top;\n",
              "    }\n",
              "\n",
              "    .dataframe thead th {\n",
              "        text-align: right;\n",
              "    }\n",
              "</style>\n",
              "<table border=\"1\" class=\"dataframe\">\n",
              "  <thead>\n",
              "    <tr style=\"text-align: right;\">\n",
              "      <th></th>\n",
              "      <th>longitude</th>\n",
              "      <th>latitude</th>\n",
              "      <th>housing_median_age</th>\n",
              "      <th>total_rooms</th>\n",
              "      <th>total_bedrooms</th>\n",
              "      <th>population</th>\n",
              "      <th>households</th>\n",
              "      <th>median_income</th>\n",
              "      <th>median_house_value</th>\n",
              "    </tr>\n",
              "  </thead>\n",
              "  <tbody>\n",
              "    <tr>\n",
              "      <th>count</th>\n",
              "      <td>11499.000000</td>\n",
              "      <td>11499.000000</td>\n",
              "      <td>11499.000000</td>\n",
              "      <td>11499.000000</td>\n",
              "      <td>11499.000000</td>\n",
              "      <td>11499.000000</td>\n",
              "      <td>11499.000000</td>\n",
              "      <td>11499.000000</td>\n",
              "      <td>11499.000000</td>\n",
              "    </tr>\n",
              "    <tr>\n",
              "      <th>mean</th>\n",
              "      <td>-120.143816</td>\n",
              "      <td>36.483990</td>\n",
              "      <td>28.125228</td>\n",
              "      <td>2642.119315</td>\n",
              "      <td>530.135403</td>\n",
              "      <td>1350.476215</td>\n",
              "      <td>485.172450</td>\n",
              "      <td>3.585131</td>\n",
              "      <td>180380.192104</td>\n",
              "    </tr>\n",
              "    <tr>\n",
              "      <th>std</th>\n",
              "      <td>2.110753</td>\n",
              "      <td>2.199755</td>\n",
              "      <td>13.261344</td>\n",
              "      <td>2198.669531</td>\n",
              "      <td>414.308390</td>\n",
              "      <td>1082.478529</td>\n",
              "      <td>373.674284</td>\n",
              "      <td>1.764025</td>\n",
              "      <td>115590.248346</td>\n",
              "    </tr>\n",
              "    <tr>\n",
              "      <th>min</th>\n",
              "      <td>-124.350000</td>\n",
              "      <td>32.540000</td>\n",
              "      <td>1.000000</td>\n",
              "      <td>2.000000</td>\n",
              "      <td>1.000000</td>\n",
              "      <td>5.000000</td>\n",
              "      <td>1.000000</td>\n",
              "      <td>0.499900</td>\n",
              "      <td>14999.000000</td>\n",
              "    </tr>\n",
              "    <tr>\n",
              "      <th>25%</th>\n",
              "      <td>-122.100000</td>\n",
              "      <td>34.130000</td>\n",
              "      <td>17.000000</td>\n",
              "      <td>1436.500000</td>\n",
              "      <td>292.000000</td>\n",
              "      <td>730.000000</td>\n",
              "      <td>269.000000</td>\n",
              "      <td>2.368550</td>\n",
              "      <td>94200.000000</td>\n",
              "    </tr>\n",
              "    <tr>\n",
              "      <th>50%</th>\n",
              "      <td>-120.930000</td>\n",
              "      <td>37.460000</td>\n",
              "      <td>27.000000</td>\n",
              "      <td>2144.000000</td>\n",
              "      <td>431.000000</td>\n",
              "      <td>1105.000000</td>\n",
              "      <td>400.000000</td>\n",
              "      <td>3.256000</td>\n",
              "      <td>143200.000000</td>\n",
              "    </tr>\n",
              "    <tr>\n",
              "      <th>75%</th>\n",
              "      <td>-118.020000</td>\n",
              "      <td>37.970000</td>\n",
              "      <td>37.000000</td>\n",
              "      <td>3153.000000</td>\n",
              "      <td>640.000000</td>\n",
              "      <td>1631.000000</td>\n",
              "      <td>593.000000</td>\n",
              "      <td>4.366250</td>\n",
              "      <td>234350.000000</td>\n",
              "    </tr>\n",
              "    <tr>\n",
              "      <th>max</th>\n",
              "      <td>-114.310000</td>\n",
              "      <td>41.950000</td>\n",
              "      <td>52.000000</td>\n",
              "      <td>39320.000000</td>\n",
              "      <td>6210.000000</td>\n",
              "      <td>16305.000000</td>\n",
              "      <td>5358.000000</td>\n",
              "      <td>15.000100</td>\n",
              "      <td>500001.000000</td>\n",
              "    </tr>\n",
              "  </tbody>\n",
              "</table>\n",
              "</div>\n",
              "      <button class=\"colab-df-convert\" onclick=\"convertToInteractive('df-9ffac22e-17e5-4bc0-8018-2a7c0f9f2bab')\"\n",
              "              title=\"Convert this dataframe to an interactive table.\"\n",
              "              style=\"display:none;\">\n",
              "\n",
              "  <svg xmlns=\"http://www.w3.org/2000/svg\" height=\"24px\"viewBox=\"0 0 24 24\"\n",
              "       width=\"24px\">\n",
              "    <path d=\"M0 0h24v24H0V0z\" fill=\"none\"/>\n",
              "    <path d=\"M18.56 5.44l.94 2.06.94-2.06 2.06-.94-2.06-.94-.94-2.06-.94 2.06-2.06.94zm-11 1L8.5 8.5l.94-2.06 2.06-.94-2.06-.94L8.5 2.5l-.94 2.06-2.06.94zm10 10l.94 2.06.94-2.06 2.06-.94-2.06-.94-.94-2.06-.94 2.06-2.06.94z\"/><path d=\"M17.41 7.96l-1.37-1.37c-.4-.4-.92-.59-1.43-.59-.52 0-1.04.2-1.43.59L10.3 9.45l-7.72 7.72c-.78.78-.78 2.05 0 2.83L4 21.41c.39.39.9.59 1.41.59.51 0 1.02-.2 1.41-.59l7.78-7.78 2.81-2.81c.8-.78.8-2.07 0-2.86zM5.41 20L4 18.59l7.72-7.72 1.47 1.35L5.41 20z\"/>\n",
              "  </svg>\n",
              "      </button>\n",
              "\n",
              "\n",
              "\n",
              "    <div id=\"df-9910805f-066f-4746-bece-150f78ec531a\">\n",
              "      <button class=\"colab-df-quickchart\" onclick=\"quickchart('df-9910805f-066f-4746-bece-150f78ec531a')\"\n",
              "              title=\"Suggest charts.\"\n",
              "              style=\"display:none;\">\n",
              "\n",
              "<svg xmlns=\"http://www.w3.org/2000/svg\" height=\"24px\"viewBox=\"0 0 24 24\"\n",
              "     width=\"24px\">\n",
              "    <g>\n",
              "        <path d=\"M19 3H5c-1.1 0-2 .9-2 2v14c0 1.1.9 2 2 2h14c1.1 0 2-.9 2-2V5c0-1.1-.9-2-2-2zM9 17H7v-7h2v7zm4 0h-2V7h2v10zm4 0h-2v-4h2v4z\"/>\n",
              "    </g>\n",
              "</svg>\n",
              "      </button>\n",
              "    </div>\n",
              "\n",
              "<style>\n",
              "  .colab-df-quickchart {\n",
              "    background-color: #E8F0FE;\n",
              "    border: none;\n",
              "    border-radius: 50%;\n",
              "    cursor: pointer;\n",
              "    display: none;\n",
              "    fill: #1967D2;\n",
              "    height: 32px;\n",
              "    padding: 0 0 0 0;\n",
              "    width: 32px;\n",
              "  }\n",
              "\n",
              "  .colab-df-quickchart:hover {\n",
              "    background-color: #E2EBFA;\n",
              "    box-shadow: 0px 1px 2px rgba(60, 64, 67, 0.3), 0px 1px 3px 1px rgba(60, 64, 67, 0.15);\n",
              "    fill: #174EA6;\n",
              "  }\n",
              "\n",
              "  [theme=dark] .colab-df-quickchart {\n",
              "    background-color: #3B4455;\n",
              "    fill: #D2E3FC;\n",
              "  }\n",
              "\n",
              "  [theme=dark] .colab-df-quickchart:hover {\n",
              "    background-color: #434B5C;\n",
              "    box-shadow: 0px 1px 3px 1px rgba(0, 0, 0, 0.15);\n",
              "    filter: drop-shadow(0px 1px 2px rgba(0, 0, 0, 0.3));\n",
              "    fill: #FFFFFF;\n",
              "  }\n",
              "</style>\n",
              "\n",
              "    <script>\n",
              "      async function quickchart(key) {\n",
              "        const containerElement = document.querySelector('#' + key);\n",
              "        const charts = await google.colab.kernel.invokeFunction(\n",
              "            'suggestCharts', [key], {});\n",
              "      }\n",
              "    </script>\n",
              "\n",
              "      <script>\n",
              "\n",
              "function displayQuickchartButton(domScope) {\n",
              "  let quickchartButtonEl =\n",
              "    domScope.querySelector('#df-9910805f-066f-4746-bece-150f78ec531a button.colab-df-quickchart');\n",
              "  quickchartButtonEl.style.display =\n",
              "    google.colab.kernel.accessAllowed ? 'block' : 'none';\n",
              "}\n",
              "\n",
              "        displayQuickchartButton(document);\n",
              "      </script>\n",
              "      <style>\n",
              "    .colab-df-container {\n",
              "      display:flex;\n",
              "      flex-wrap:wrap;\n",
              "      gap: 12px;\n",
              "    }\n",
              "\n",
              "    .colab-df-convert {\n",
              "      background-color: #E8F0FE;\n",
              "      border: none;\n",
              "      border-radius: 50%;\n",
              "      cursor: pointer;\n",
              "      display: none;\n",
              "      fill: #1967D2;\n",
              "      height: 32px;\n",
              "      padding: 0 0 0 0;\n",
              "      width: 32px;\n",
              "    }\n",
              "\n",
              "    .colab-df-convert:hover {\n",
              "      background-color: #E2EBFA;\n",
              "      box-shadow: 0px 1px 2px rgba(60, 64, 67, 0.3), 0px 1px 3px 1px rgba(60, 64, 67, 0.15);\n",
              "      fill: #174EA6;\n",
              "    }\n",
              "\n",
              "    [theme=dark] .colab-df-convert {\n",
              "      background-color: #3B4455;\n",
              "      fill: #D2E3FC;\n",
              "    }\n",
              "\n",
              "    [theme=dark] .colab-df-convert:hover {\n",
              "      background-color: #434B5C;\n",
              "      box-shadow: 0px 1px 3px 1px rgba(0, 0, 0, 0.15);\n",
              "      filter: drop-shadow(0px 1px 2px rgba(0, 0, 0, 0.3));\n",
              "      fill: #FFFFFF;\n",
              "    }\n",
              "  </style>\n",
              "\n",
              "      <script>\n",
              "        const buttonEl =\n",
              "          document.querySelector('#df-9ffac22e-17e5-4bc0-8018-2a7c0f9f2bab button.colab-df-convert');\n",
              "        buttonEl.style.display =\n",
              "          google.colab.kernel.accessAllowed ? 'block' : 'none';\n",
              "\n",
              "        async function convertToInteractive(key) {\n",
              "          const element = document.querySelector('#df-9ffac22e-17e5-4bc0-8018-2a7c0f9f2bab');\n",
              "          const dataTable =\n",
              "            await google.colab.kernel.invokeFunction('convertToInteractive',\n",
              "                                                     [key], {});\n",
              "          if (!dataTable) return;\n",
              "\n",
              "          const docLinkHtml = 'Like what you see? Visit the ' +\n",
              "            '<a target=\"_blank\" href=https://colab.research.google.com/notebooks/data_table.ipynb>data table notebook</a>'\n",
              "            + ' to learn more about interactive tables.';\n",
              "          element.innerHTML = '';\n",
              "          dataTable['output_type'] = 'display_data';\n",
              "          await google.colab.output.renderOutput(dataTable, element);\n",
              "          const docLink = document.createElement('div');\n",
              "          docLink.innerHTML = docLinkHtml;\n",
              "          element.appendChild(docLink);\n",
              "        }\n",
              "      </script>\n",
              "    </div>\n",
              "  </div>\n"
            ]
          },
          "metadata": {},
          "execution_count": 7
        }
      ]
    },
    {
      "cell_type": "markdown",
      "source": [
        "**Exercise 2.3: Correlation Analysis**\n",
        "\n",
        "Correlation analysis can provide insights into the strength and direction of relationships, but it does not imply causation. It only captures the linear association between variables, not necessarily the underlying mechanisms or causal links. For the numerical features in the dataset, we are interested in seeing how correlated they are with the `median_house_value` feature."
      ],
      "metadata": {
        "id": "eJSxefbVImCg"
      }
    },
    {
      "cell_type": "code",
      "source": [
        "correlation_matrix = housing_data.corr()\n",
        "correlation_matrix['median_house_value']"
      ],
      "metadata": {
        "colab": {
          "base_uri": "https://localhost:8080/"
        },
        "id": "6wrQT8l7IoKT",
        "outputId": "433516d1-8b97-46da-dd86-1267eb1304d3"
      },
      "execution_count": null,
      "outputs": [
        {
          "output_type": "stream",
          "name": "stderr",
          "text": [
            "<ipython-input-11-d3cc576888e4>:1: FutureWarning: The default value of numeric_only in DataFrame.corr is deprecated. In a future version, it will default to False. Select only valid columns or specify the value of numeric_only to silence this warning.\n",
            "  correlation_matrix = housing_data.corr()\n"
          ]
        },
        {
          "output_type": "execute_result",
          "data": {
            "text/plain": [
              "longitude            -0.189600\n",
              "latitude             -0.061939\n",
              "housing_median_age    0.188527\n",
              "total_rooms           0.117423\n",
              "total_bedrooms        0.049345\n",
              "population           -0.016678\n",
              "households            0.067648\n",
              "median_income         0.682785\n",
              "median_house_value    1.000000\n",
              "Name: median_house_value, dtype: float64"
            ]
          },
          "metadata": {},
          "execution_count": 11
        }
      ]
    },
    {
      "cell_type": "markdown",
      "source": [
        "**Exercise 2.4:** Visualize a correlation heatmap showing the pairwise correlation of each numerical variable in the dataset."
      ],
      "metadata": {
        "id": "P0frXGUIYvaH"
      }
    },
    {
      "cell_type": "code",
      "source": [
        "# Create a figure and axes\n",
        "fig, ax = plt.subplots()\n",
        "\n",
        "# Create the heatmap\n",
        "heatmap = ax.imshow(correlation_matrix, cmap='coolwarm')\n",
        "\n",
        "# Add colorbar\n",
        "cbar = fig.colorbar(heatmap)\n",
        "\n",
        "# Set x and y axis labels\n",
        "ax.set_xticks(np.arange(correlation_matrix.shape[0]))\n",
        "ax.set_yticks(np.arange(correlation_matrix.shape[1]))\n",
        "\n",
        "#Pass in the column names of the correlation matrix as the ticklabels\n",
        "ax.set_xticklabels(correlation_matrix.columns)\n",
        "ax.set_yticklabels(correlation_matrix.columns)\n",
        "\n",
        "# Rotate x-axis tick labels\n",
        "plt.setp(ax.get_xticklabels(), rotation=45, ha=\"right\", rotation_mode=\"anchor\")\n",
        "\n",
        "# Set the title\n",
        "ax.set_title(\"Correlation Heatmap\")\n",
        "\n",
        "# Display the heatmap\n",
        "plt.show()"
      ],
      "metadata": {
        "colab": {
          "base_uri": "https://localhost:8080/",
          "height": 552
        },
        "id": "i6ue3UsWY5Xg",
        "outputId": "2b69377a-d418-4a17-fbbb-ec6c0d008020"
      },
      "execution_count": null,
      "outputs": [
        {
          "output_type": "display_data",
          "data": {
            "text/plain": [
              "<Figure size 640x480 with 2 Axes>"
            ],
            "image/png": "[encoded data removed]"
          },
          "metadata": {}
        }
      ]
    },
    {
      "cell_type": "markdown",
      "source": [
        "What can you deduce for the correlation heatmap?"
      ],
      "metadata": {
        "id": "JuD8ci0PZN5k"
      }
    },
    {
      "cell_type": "markdown",
      "source": [],
      "metadata": {
        "id": "VEndSsQbZSfb"
      }
    },
    {
      "cell_type": "markdown",
      "source": [
        "**Exercise 2.5:** It is believed that there exists a strong positive correlation between `households` and `total_bedrooms`. Investigate this using a scatterplot."
      ],
      "metadata": {
        "id": "1oYrjFw4ZHh3"
      }
    },
    {
      "cell_type": "code",
      "source": [
        "plt.scatter(housing_data['households'], housing_data['total_bedrooms'])\n",
        "plt.xlabel('Number of households')\n",
        "plt.ylabel('total_bedrooms')\n",
        "plt.show()"
      ],
      "metadata": {
        "colab": {
          "base_uri": "https://localhost:8080/",
          "height": 449
        },
        "id": "f2K8AQ-9bEeX",
        "outputId": "5df7a6f5-0e25-4cbc-f373-dfbe42abc530"
      },
      "execution_count": null,
      "outputs": [
        {
          "output_type": "display_data",
          "data": {
            "text/plain": [
              "<Figure size 640x480 with 1 Axes>"
            ],
            "image/png": "[encoded data removed]"
          },
          "metadata": {}
        }
      ]
    },
    {
      "cell_type": "markdown",
      "source": [
        "**Exercise 2.6:** There are a number of categories in the `ocean_proximity` variable. Can you investigate the frequency of each category using a frequency table and barplot."
      ],
      "metadata": {
        "id": "_lk-7n5Kc7gj"
      }
    },
    {
      "cell_type": "code",
      "source": [
        "proximity_frequency_table = housing_data['ocean_proximity'].value_counts()\n",
        "proximity_frequency_table"
      ],
      "metadata": {
        "colab": {
          "base_uri": "https://localhost:8080/"
        },
        "id": "zdDtiIGTdSsS",
        "outputId": "e9bb7ebc-c3d8-446c-d869-342577c8dbd5"
      },
      "execution_count": null,
      "outputs": [
        {
          "output_type": "execute_result",
          "data": {
            "text/plain": [
              "INLAND        6551\n",
              "NEAR OCEAN    2658\n",
              "NEAR BAY      2290\n",
              "Name: ocean_proximity, dtype: int64"
            ]
          },
          "metadata": {},
          "execution_count": 17
        }
      ]
    },
    {
      "cell_type": "code",
      "source": [
        "frequency = proximity_frequency_table.values\n",
        "proximity_categories = proximity_frequency_table.index.values\n",
        "\n",
        "#Make bar plot\n",
        "plt.bar(proximity_categories, frequency)\n",
        "plt.show()"
      ],
      "metadata": {
        "colab": {
          "base_uri": "https://localhost:8080/",
          "height": 430
        },
        "id": "yfm941OBdiV_",
        "outputId": "3eb1bada-b411-45d3-fa8b-a2eea1868d95"
      },
      "execution_count": null,
      "outputs": [
        {
          "output_type": "display_data",
          "data": {
            "text/plain": [
              "<Figure size 640x480 with 1 Axes>"
            ],
            "image/png": "[encoded data removed]"
          },
          "metadata": {}
        }
      ]
    },
    {
      "cell_type": "markdown",
      "source": [
        "**Exercise 2.7:** From the statistical summary you investigated earlier, it appears that  `total_rooms`, `households`, and `population` contain a number of outliers. Can you investigate this using boxplots and histogram.\n",
        "\n",
        "For clarity create a  grid of plot (subplots) for each variable. Place the histogram and boxplot on the same figure."
      ],
      "metadata": {
        "id": "4mb80EKYds2N"
      }
    },
    {
      "cell_type": "markdown",
      "source": [
        "**Exercise 2.7.1:** Total_rooms\n",
        "\n"
      ],
      "metadata": {
        "id": "A2eYgBZNeq4y"
      }
    },
    {
      "cell_type": "code",
      "source": [
        "#make them a subplot\n",
        "fig, ax = plt.subplots(nrows=1, ncols=2, figsize=(13, 8))\n",
        "ax[0].hist(housing_data['total_rooms'])\n",
        "ax[1].boxplot(housing_data['total_rooms'])\n",
        "\n",
        "#Let's add their respective titles.\n",
        "ax[0].set_title(\"Histogram - Distribution of total_rooms\")\n",
        "ax[1].set_title(\"Boxplot - total_rooms\")\n",
        "\n",
        "plt.tight_layout()  # Adjust the spacing between subplots\n",
        "\n",
        "plt.show()\n"
      ],
      "metadata": {
        "colab": {
          "base_uri": "https://localhost:8080/",
          "height": 807
        },
        "id": "Yj2qKogbmrKH",
        "outputId": "716a6bf5-79ac-4308-c910-dee157461e52"
      },
      "execution_count": null,
      "outputs": [
        {
          "output_type": "display_data",
          "data": {
            "text/plain": [
              "<Figure size 1300x800 with 2 Axes>"
            ],
            "image/png": "[encoded data removed]"
          },
          "metadata": {}
        }
      ]
    },
    {
      "cell_type": "markdown",
      "source": [
        "**Exercise 2.7.2:** households\n",
        "\n"
      ],
      "metadata": {
        "id": "UPmUMwiXexhG"
      }
    },
    {
      "cell_type": "code",
      "source": [
        "#make them a subplot\n",
        "fig, ax = plt.subplots(nrows=1, ncols=2, figsize=(13, 8))\n",
        "ax[0].hist(housing_data['households'])\n",
        "ax[1].boxplot(housing_data['households'])\n",
        "\n",
        "#Let's add their respective titles.\n",
        "ax[0].set_title(\"Histogram - Distribution of households\")\n",
        "ax[1].set_title(\"Boxplot - households\")\n",
        "\n",
        "plt.tight_layout()  # Adjust the spacing between subplots\n",
        "\n",
        "plt.show()"
      ],
      "metadata": {
        "colab": {
          "base_uri": "https://localhost:8080/",
          "height": 807
        },
        "id": "wHZA-wC7dvue",
        "outputId": "78d0ca94-8693-4d2e-cdfd-722689953a14"
      },
      "execution_count": null,
      "outputs": [
        {
          "output_type": "display_data",
          "data": {
            "text/plain": [
              "<Figure size 1300x800 with 2 Axes>"
            ],
            "image/png": "[encoded data removed]"
          },
          "metadata": {}
        }
      ]
    },
    {
      "cell_type": "markdown",
      "source": [
        "**Exercise 2.7.3:** population\n",
        "\n"
      ],
      "metadata": {
        "id": "6DKXarwGe095"
      }
    },
    {
      "cell_type": "code",
      "source": [
        "#make them a subplot\n",
        "fig, ax = plt.subplots(nrows=1, ncols=2, figsize=(13, 8))\n",
        "ax[0].hist(housing_data['population'])\n",
        "ax[1].boxplot(housing_data['population'])\n",
        "\n",
        "#Let's add their respective titles.\n",
        "ax[0].set_title(\"Histogram - Distribution of population\")\n",
        "ax[1].set_title(\"Boxplot - population\")\n",
        "\n",
        "plt.tight_layout()  # Adjust the spacing between subplots\n",
        "\n",
        "plt.show()"
      ],
      "metadata": {
        "colab": {
          "base_uri": "https://localhost:8080/",
          "height": 807
        },
        "id": "CZqPWcCRe31U",
        "outputId": "5ecbf905-fd96-4f5b-9b21-e5b6b7297351"
      },
      "execution_count": null,
      "outputs": [
        {
          "output_type": "display_data",
          "data": {
            "text/plain": [
              "<Figure size 1300x800 with 2 Axes>"
            ],
            "image/png": "[encoded data removed]"
          },
          "metadata": {}
        }
      ]
    },
    {
      "cell_type": "markdown",
      "source": [
        "## Exercise 3: Hypothesis Testing"
      ],
      "metadata": {
        "id": "tEmR-VHhe-UU"
      }
    },
    {
      "cell_type": "markdown",
      "source": [
        "#### Problem 1: Here, you will investigate the effect of ocean proximity on the median value of houses within a block.\n",
        "\n",
        "**Case Study:** The housing market in California is influenced by various factors, and one such factor is the proximity of a house to the ocean. It is commonly believed that houses near the ocean tend to have higher median values compared to houses located further inland. In this examination, we will investigate whether there is a significant difference in the median house values based on the ocean proximity.\n",
        "\n",
        "As a data scientist, investigate the hypothesis that houses located near the ocean have a higher median house value compared to houses located further inland in California. You are going to conduct a hypothesis test with the following null and alternative hypotheses:\n",
        "\n"
      ],
      "metadata": {
        "id": "9ZUkQ2cKb05h"
      }
    },
    {
      "cell_type": "markdown",
      "source": [
        "**Exercise 3.1.1:** Design a null and alternative hypothesis for this problem."
      ],
      "metadata": {
        "id": "PsZ5XJwpfPeD"
      }
    },
    {
      "cell_type": "markdown",
      "source": [
        "\n",
        "- **Null Hypothesis**: There is no significant difference in the median house values based on the ocean proximity.\n",
        "- **Alternative Hypothesis**: The proximity to the ocean has a significant impact on the average housing prices in California."
      ],
      "metadata": {
        "id": "9Pv2_atnfOTV"
      }
    },
    {
      "cell_type": "markdown",
      "source": [
        "**Exercise 3.1.2:** What measure do you think is a perfect choice for a test statistic?"
      ],
      "metadata": {
        "id": "WyfY8O-WfWPg"
      }
    },
    {
      "cell_type": "markdown",
      "source": [
        "**Test statistic choice:** A suitable test statistic for investigating the impact of ocean proximity on median house values in California is the difference in median house values between houses near the ocean and houses further inland. By comparing this difference to the null hypothesis, which assumes no significant difference in median house values based on ocean proximity, we can determine if there is evidence to support the alternative hypothesis that proximity to the ocean has a significant impact on housing prices in California."
      ],
      "metadata": {
        "id": "e8L0GVyiPDjA"
      }
    },
    {
      "cell_type": "markdown",
      "source": [
        "**Exercise 3.1.3:** Verify the claim made by the company using hypothesis testing and a confidence level of 98%. Compute the p-value."
      ],
      "metadata": {
        "id": "Mhsuml4afaUE"
      }
    },
    {
      "cell_type": "code",
      "source": [
        "# Define the groups based on ocean proximity\n",
        "near_ocean_group = housing_data[housing_data['ocean_proximity'] == 'NEAR_OCEAN']\n",
        "inland_group = housing_data[housing_data['ocean_proximity'] == 'INLAND']\n",
        "\n",
        "#Perform Hypothesis test\n",
        "import statsmodels.api as sm\n",
        "test_statistic, p_value, _ = sm.stats.ttest_ind(near_ocean_group['median_house_value'],inland_group['median_house_value'],)\n",
        "print(p_value)"
      ],
      "metadata": {
        "id": "RwlHd27NftoT"
      },
      "execution_count": null,
      "outputs": []
    },
    {
      "cell_type": "code",
      "source": [
        "near_ocean_group.isnull().sum()"
      ],
      "metadata": {
        "colab": {
          "base_uri": "https://localhost:8080/"
        },
        "id": "HqRsJeB3raY7",
        "outputId": "a393c1ee-449a-4d1f-963b-c4209af2e4fa"
      },
      "execution_count": null,
      "outputs": [
        {
          "output_type": "execute_result",
          "data": {
            "text/plain": [
              "longitude             0.0\n",
              "latitude              0.0\n",
              "housing_median_age    0.0\n",
              "total_rooms           0.0\n",
              "total_bedrooms        0.0\n",
              "population            0.0\n",
              "households            0.0\n",
              "median_income         0.0\n",
              "median_house_value    0.0\n",
              "ocean_proximity       0.0\n",
              "dtype: float64"
            ]
          },
          "metadata": {},
          "execution_count": 30
        }
      ]
    },
    {
      "cell_type": "markdown",
      "source": [
        "**Exercise 3.1.4:** What will be your conclusion based on the p-value obtained from your analysis?\n",
        "\n",
        "1. The p-value we observed is below the 5% cutoff, so we conclude that the data support the alternative hypothesis.\n",
        "2. The p-value we observed is above the 5% cutoff, so we conclude that there is not enough evidence to reject the null hypothesis.\n",
        "3. The p-value we observed is below the 5% cutoff, so we conclude that there is not enough evidence to reject the null hypothesis.\n",
        "4. The p-value we observed is above the 5% cutoff, so we conclude that the data support the alternative hypothesis.\n",
        "\n",
        "Assign `conclusion_1` to the number corresponding to your answer."
      ],
      "metadata": {
        "id": "ibWvxi6VfuAx"
      }
    },
    {
      "cell_type": "code",
      "source": [
        "conclusion_1 = #YOUR ANSWER HERE"
      ],
      "metadata": {
        "id": "msQJsByQTSRH"
      },
      "execution_count": null,
      "outputs": []
    },
    {
      "cell_type": "markdown",
      "source": [
        "## Exercise 4: Modeling\n",
        "\n",
        "A real estate company seeks to develop a predictive model to aid their understanding of the principles behind the increasing prices of houses in california. To understand what the median house value might be, the company believes a regression model capable of estimating house value with minimum error is required.\n",
        "\n",
        "As a data scientist, you are tasked with the responsibility of developing a multiple linear regression model using their data."
      ],
      "metadata": {
        "id": "xCekqFAzmSPv"
      }
    },
    {
      "cell_type": "markdown",
      "source": [
        "**Exercise 4.1 Encoding Categorical Variables**\n",
        "\n",
        "Remember machine learning model can only process and take in numerical values as inputs. We still have a categorical variable in our dataset: `ocean_proximity`. You will need to encode such variables when working with machine learning models.\n",
        "\n",
        "Encoding categorical variables is necessary in many data analysis and modeling tasks due to several reasons. Categorical variables, which represent qualitative attributes or groups, need to be encoded into numerical form to be effectively utilized by machine learning algorithms and statistical models. Encoding allows for the inclusion of categorical variables in mathematical operations and facilitates meaningful comparisons and interpretations. Additionally, encoding enables algorithms to recognize patterns and relationships in categorical data, thus improving the accuracy and performance of models."
      ],
      "metadata": {
        "id": "68rFyaTnmZa6"
      }
    },
    {
      "cell_type": "markdown",
      "source": [
        "#### One-Hot Encoding\n",
        "\n",
        "One-hot encoding is a popular technique used to convert categorical variables into a numerical representation. It creates new binary columns, also known as dummy variables, for each unique category in the original variable. In one-hot encoding, for each observation in the dataset, a `1` is placed in the corresponding category column, indicating the presence of that category, while `0` is placed in all other category columns. This representation allows machine learning algorithms to interpret categorical variables as numerical inputs.\n",
        "\n",
        "**How does One-Hot Encoding Work?**\n",
        "\n",
        "For example, let's say we have a categorical variable `Color` with three categories: `Red, Green, and Yellow`. After applying one-hot encoding, we would create three new columns: `Color_Red`, `Color_Green`, and `Color_Blue`. If an observation has the color Red, the `Color_Red` column will have a value of `1`, while the `Color_Green` and `Color_Blue` columns will have values of `0`.\n",
        "\n",
        "![image.png](data:image/png;base64,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)\n",
        "\n",
        "**It is particularly useful when the categories do not have a natural numerical order or when all categories are equally important. However, one-hot encoding can lead to a high number of columns and potential issues with multicollinearity (when the new columns are highly correlated with each other). Therefore, it's important to consider the trade-off between interpretability and the impact on model complexity when applying one-hot encoding.**\n",
        "\n",
        "The easiest way to perform one-hot encoding is by using the [get_dummies()](https://pandas.pydata.org/docs/reference/api/pandas.get_dummies.html) function from the pandas library."
      ],
      "metadata": {
        "id": "x3RxXL5Lz0O7"
      }
    },
    {
      "cell_type": "code",
      "source": [
        "housing_data_new = pd.get_dummies(housing_data)\n",
        "housing_data_new.columns"
      ],
      "metadata": {
        "colab": {
          "base_uri": "https://localhost:8080/"
        },
        "id": "w0NEPBRSzZVF",
        "outputId": "782b62f3-d7c2-4252-d0b3-8100ed7ce0a4"
      },
      "execution_count": null,
      "outputs": [
        {
          "output_type": "execute_result",
          "data": {
            "text/plain": [
              "Index(['longitude', 'latitude', 'housing_median_age', 'total_rooms',\n",
              "       'total_bedrooms', 'population', 'households', 'median_income',\n",
              "       'median_house_value', 'ocean_proximity_INLAND',\n",
              "       'ocean_proximity_NEAR BAY', 'ocean_proximity_NEAR OCEAN'],\n",
              "      dtype='object')"
            ]
          },
          "metadata": {},
          "execution_count": 34
        }
      ]
    },
    {
      "cell_type": "markdown",
      "source": [
        "This has created three additional columns representing the categories in the `ocean_proximity` variable: `ocean_proximity_INLAND`,\n",
        "       `ocean_proximity_NEAR BAY`, `ocean_proximity_NEAR OCEAN`. After encoding categorical variables, the `get_dummies()` function drops the original column `ocean_proximity` contgaining the raw categories.\n"
      ],
      "metadata": {
        "id": "YzEVCaK61IRC"
      }
    },
    {
      "cell_type": "markdown",
      "source": [
        "**Exercise 4.2: Train and Test sets**\n",
        "\n",
        " Next, you are required to divide your dataset into training and testing set in the ratio 80:20. Remember that the column `median_house_value` is the target variable."
      ],
      "metadata": {
        "id": "r3tmdsAx1t_-"
      }
    },
    {
      "cell_type": "code",
      "source": [
        "from sklearn.model_selection import train_test_split\n",
        "predictors = housing_data_new.drop(['median_house_value'],1)\n",
        "target = housing_data_new['median_house_value']\n",
        "X_train, X_test, y_train, y_test = train_test_split(\n",
        "    predictors.values, target.values, test_size=0.2, random_state=13\n",
        ")"
      ],
      "metadata": {
        "colab": {
          "base_uri": "https://localhost:8080/"
        },
        "id": "wnbPHtzj148B",
        "outputId": "7de8ee22-47e8-4dd1-8882-c67d783f4ecb"
      },
      "execution_count": null,
      "outputs": [
        {
          "output_type": "stream",
          "name": "stderr",
          "text": [
            "<ipython-input-36-277ccade4210>:2: FutureWarning: In a future version of pandas all arguments of DataFrame.drop except for the argument 'labels' will be keyword-only.\n",
            "  predictors = housing_data_new.drop(['median_house_value'],1)\n"
          ]
        }
      ]
    },
    {
      "cell_type": "markdown",
      "source": [
        "**Exercise 4.3: Feature Scaling**\n",
        "\n",
        "Now, that you have divided your dataset into training and testing portions.It is important to remember that scaling the features present in your data is very crucial to obtain accurate results. Your task here is to standardize the features in each portion of the dataset."
      ],
      "metadata": {
        "id": "vK4dJ-_L2Skn"
      }
    },
    {
      "cell_type": "code",
      "source": [
        "from sklearn.preprocessing import StandardScaler\n",
        "scaler = StandardScaler()\n",
        "X_train_scaled = scaler.fit_transform(X_train)\n",
        "X_test_scaled = scaler.transform(X_test)"
      ],
      "metadata": {
        "id": "J79UVpBM2zLd"
      },
      "execution_count": null,
      "outputs": []
    },
    {
      "cell_type": "markdown",
      "source": [
        "**Exercise 4.5: Linear Regression**\n",
        "\n",
        "Develop a linear regression model on the training dataset."
      ],
      "metadata": {
        "id": "DorgoM5A242X"
      }
    },
    {
      "cell_type": "code",
      "source": [
        "from sklearn.linear_model import LinearRegression\n",
        "\n",
        "model = LinearRegression()\n",
        "\n",
        "#fit model on training set\n",
        "model.fit(X_train_scaled,y_train)"
      ],
      "metadata": {
        "colab": {
          "base_uri": "https://localhost:8080/",
          "height": 74
        },
        "id": "xtanQjxp3C_T",
        "outputId": "6c1fcb63-6b1a-4246-a19f-a033fcba6cb4"
      },
      "execution_count": null,
      "outputs": [
        {
          "output_type": "execute_result",
          "data": {
            "text/plain": [
              "LinearRegression()"
            ],
            "text/html": [
              "<style>#sk-container-id-1 {color: black;background-color: white;}#sk-container-id-1 pre{padding: 0;}#sk-container-id-1 div.sk-toggleable {background-color: white;}#sk-container-id-1 label.sk-toggleable__label {cursor: pointer;display: block;width: 100%;margin-bottom: 0;padding: 0.3em;box-sizing: border-box;text-align: center;}#sk-container-id-1 label.sk-toggleable__label-arrow:before {content: \"▸\";float: left;margin-right: 0.25em;color: #696969;}#sk-container-id-1 label.sk-toggleable__label-arrow:hover:before {color: black;}#sk-container-id-1 div.sk-estimator:hover label.sk-toggleable__label-arrow:before {color: black;}#sk-container-id-1 div.sk-toggleable__content {max-height: 0;max-width: 0;overflow: hidden;text-align: left;background-color: #f0f8ff;}#sk-container-id-1 div.sk-toggleable__content pre {margin: 0.2em;color: black;border-radius: 0.25em;background-color: #f0f8ff;}#sk-container-id-1 input.sk-toggleable__control:checked~div.sk-toggleable__content {max-height: 200px;max-width: 100%;overflow: auto;}#sk-container-id-1 input.sk-toggleable__control:checked~label.sk-toggleable__label-arrow:before {content: \"▾\";}#sk-container-id-1 div.sk-estimator input.sk-toggleable__control:checked~label.sk-toggleable__label {background-color: #d4ebff;}#sk-container-id-1 div.sk-label input.sk-toggleable__control:checked~label.sk-toggleable__label {background-color: #d4ebff;}#sk-container-id-1 input.sk-hidden--visually {border: 0;clip: rect(1px 1px 1px 1px);clip: rect(1px, 1px, 1px, 1px);height: 1px;margin: -1px;overflow: hidden;padding: 0;position: absolute;width: 1px;}#sk-container-id-1 div.sk-estimator {font-family: monospace;background-color: #f0f8ff;border: 1px dotted black;border-radius: 0.25em;box-sizing: border-box;margin-bottom: 0.5em;}#sk-container-id-1 div.sk-estimator:hover {background-color: #d4ebff;}#sk-container-id-1 div.sk-parallel-item::after {content: \"\";width: 100%;border-bottom: 1px solid gray;flex-grow: 1;}#sk-container-id-1 div.sk-label:hover label.sk-toggleable__label {background-color: #d4ebff;}#sk-container-id-1 div.sk-serial::before {content: \"\";position: absolute;border-left: 1px solid gray;box-sizing: border-box;top: 0;bottom: 0;left: 50%;z-index: 0;}#sk-container-id-1 div.sk-serial {display: flex;flex-direction: column;align-items: center;background-color: white;padding-right: 0.2em;padding-left: 0.2em;position: relative;}#sk-container-id-1 div.sk-item {position: relative;z-index: 1;}#sk-container-id-1 div.sk-parallel {display: flex;align-items: stretch;justify-content: center;background-color: white;position: relative;}#sk-container-id-1 div.sk-item::before, #sk-container-id-1 div.sk-parallel-item::before {content: \"\";position: absolute;border-left: 1px solid gray;box-sizing: border-box;top: 0;bottom: 0;left: 50%;z-index: -1;}#sk-container-id-1 div.sk-parallel-item {display: flex;flex-direction: column;z-index: 1;position: relative;background-color: white;}#sk-container-id-1 div.sk-parallel-item:first-child::after {align-self: flex-end;width: 50%;}#sk-container-id-1 div.sk-parallel-item:last-child::after {align-self: flex-start;width: 50%;}#sk-container-id-1 div.sk-parallel-item:only-child::after {width: 0;}#sk-container-id-1 div.sk-dashed-wrapped {border: 1px dashed gray;margin: 0 0.4em 0.5em 0.4em;box-sizing: border-box;padding-bottom: 0.4em;background-color: white;}#sk-container-id-1 div.sk-label label {font-family: monospace;font-weight: bold;display: inline-block;line-height: 1.2em;}#sk-container-id-1 div.sk-label-container {text-align: center;}#sk-container-id-1 div.sk-container {/* jupyter's `normalize.less` sets `[hidden] { display: none; }` but bootstrap.min.css set `[hidden] { display: none !important; }` so we also need the `!important` here to be able to override the default hidden behavior on the sphinx rendered scikit-learn.org. See: https://github.com/scikit-learn/scikit-learn/issues/21755 */display: inline-block !important;position: relative;}#sk-container-id-1 div.sk-text-repr-fallback {display: none;}</style><div id=\"sk-container-id-1\" class=\"sk-top-container\"><div class=\"sk-text-repr-fallback\"><pre>LinearRegression()</pre><b>In a Jupyter environment, please rerun this cell to show the HTML representation or trust the notebook. <br />On GitHub, the HTML representation is unable to render, please try loading this page with nbviewer.org.</b></div><div class=\"sk-container\" hidden><div class=\"sk-item\"><div class=\"sk-estimator sk-toggleable\"><input class=\"sk-toggleable__control sk-hidden--visually\" id=\"sk-estimator-id-1\" type=\"checkbox\" checked><label for=\"sk-estimator-id-1\" class=\"sk-toggleable__label sk-toggleable__label-arrow\">LinearRegression</label><div class=\"sk-toggleable__content\"><pre>LinearRegression()</pre></div></div></div></div></div>"
            ]
          },
          "metadata": {},
          "execution_count": 38
        }
      ]
    },
    {
      "cell_type": "markdown",
      "source": [
        "**Exercise 4.6:** Use your newly trained model to predict on the test set. Additionally, evaluate the performance of your model on the test using the mean squared error and mean absolute error measures."
      ],
      "metadata": {
        "id": "SL0TkaA_3JYI"
      }
    },
    {
      "cell_type": "code",
      "source": [
        "prediction = model.predict(X_test_scaled)\n",
        "\n",
        "from sklearn.metrics import mean_squared_error\n",
        "from sklearn.metrics import mean_absolute_error\n",
        "\n",
        "MSE = mean_squared_error(prediction,y_test)\n",
        "MAE = mean_absolute_error(prediction, y_test)\n",
        "\n",
        "print(\"MAE\",MAE)\n",
        "print(\"MSE\",MSE)"
      ],
      "metadata": {
        "colab": {
          "base_uri": "https://localhost:8080/"
        },
        "id": "SvQKfQ6c3N8B",
        "outputId": "828c91cb-e34e-42b9-84df-887ac46184b0"
      },
      "execution_count": null,
      "outputs": [
        {
          "output_type": "stream",
          "name": "stdout",
          "text": [
            "MAE 48251.47917851\n",
            "MSE 4419687316.561684\n"
          ]
        }
      ]
    },
    {
      "cell_type": "markdown",
      "source": [
        "## Part 2: Classification: A Case study of loan default prediction.\n",
        "\n",
        "Loan defaulting is a significant issue in the financial industry, impacting both lenders and borrowers. Defaults occur when borrowers fail to repay their loans, leading to financial losses and potential instability in the financial system. To mitigate this risk, it is essential to understand the factors contributing to loan defaults.\n",
        "\n",
        "The `loan default` dataset consists of several customer characteristics which are believed to influence loan defaulting. By considering these factors, lenders can minimize default risks and promote responsible lending practices.\n",
        "\n",
        "The features in this dataset includes:\n",
        "- `Income`:\tIncome of the user\n",
        "- `Age`:\tAge of the user\n",
        "- `Experience`:\tProfessional experience of the user in years\n",
        "- `Profession`:\tProfession\n",
        "- `Marital Status`:\tWhether married or single\n",
        "- `House_Ownership`:\tOwned or rented or neither\n",
        "- `Car_Ownership`:\tDoes the person own a car\n",
        "- `Risk_Flag`:\tDefaulted on a loan\n",
        "- `Current_Job_Yrs`:\tYears of experience in the current job\n",
        "- `Current_House_Yrs`:\tNumber of years in the current residence\n",
        "\n",
        "Here we will load the dataset:"
      ],
      "metadata": {
        "id": "fSktOwoLRGNF"
      }
    },
    {
      "cell_type": "code",
      "source": [
        "loan_data = pd.read_csv('loan_default.csv')\n",
        "loan_data.head()"
      ],
      "metadata": {
        "id": "XdFDtffhCzPW",
        "colab": {
          "base_uri": "https://localhost:8080/",
          "height": 206
        },
        "outputId": "af7e5f2d-8b4e-4a5a-ff53-e7050a3cfe96"
      },
      "execution_count": null,
      "outputs": [
        {
          "output_type": "execute_result",
          "data": {
            "text/plain": [
              "    Income  Age  Experience Marital Status House_Ownership Car_Ownership  \\\n",
              "0  1020861   42          17         single          rented            no   \n",
              "1  2499276   21           0         single          rented            no   \n",
              "2  9241363   62          18         single          rented           yes   \n",
              "3  7059372   43           4        married           owned            no   \n",
              "4  3957826   78          13         single          rented            no   \n",
              "\n",
              "   Current_Job_Yrs  Current_House_Yrs  Risk_Flag  \n",
              "0                7                 14          1  \n",
              "1                0                 12          1  \n",
              "2                5                 11          1  \n",
              "3                4                 13          1  \n",
              "4               11                 11          1  "
            ],
            "text/html": [
              "\n",
              "\n",
              "  <div id=\"df-32c84e85-beee-46a0-8d9f-bf4438427bef\">\n",
              "    <div class=\"colab-df-container\">\n",
              "      <div>\n",
              "<style scoped>\n",
              "    .dataframe tbody tr th:only-of-type {\n",
              "        vertical-align: middle;\n",
              "    }\n",
              "\n",
              "    .dataframe tbody tr th {\n",
              "        vertical-align: top;\n",
              "    }\n",
              "\n",
              "    .dataframe thead th {\n",
              "        text-align: right;\n",
              "    }\n",
              "</style>\n",
              "<table border=\"1\" class=\"dataframe\">\n",
              "  <thead>\n",
              "    <tr style=\"text-align: right;\">\n",
              "      <th></th>\n",
              "      <th>Income</th>\n",
              "      <th>Age</th>\n",
              "      <th>Experience</th>\n",
              "      <th>Marital Status</th>\n",
              "      <th>House_Ownership</th>\n",
              "      <th>Car_Ownership</th>\n",
              "      <th>Current_Job_Yrs</th>\n",
              "      <th>Current_House_Yrs</th>\n",
              "      <th>Risk_Flag</th>\n",
              "    </tr>\n",
              "  </thead>\n",
              "  <tbody>\n",
              "    <tr>\n",
              "      <th>0</th>\n",
              "      <td>1020861</td>\n",
              "      <td>42</td>\n",
              "      <td>17</td>\n",
              "      <td>single</td>\n",
              "      <td>rented</td>\n",
              "      <td>no</td>\n",
              "      <td>7</td>\n",
              "      <td>14</td>\n",
              "      <td>1</td>\n",
              "    </tr>\n",
              "    <tr>\n",
              "      <th>1</th>\n",
              "      <td>2499276</td>\n",
              "      <td>21</td>\n",
              "      <td>0</td>\n",
              "      <td>single</td>\n",
              "      <td>rented</td>\n",
              "      <td>no</td>\n",
              "      <td>0</td>\n",
              "      <td>12</td>\n",
              "      <td>1</td>\n",
              "    </tr>\n",
              "    <tr>\n",
              "      <th>2</th>\n",
              "      <td>9241363</td>\n",
              "      <td>62</td>\n",
              "      <td>18</td>\n",
              "      <td>single</td>\n",
              "      <td>rented</td>\n",
              "      <td>yes</td>\n",
              "      <td>5</td>\n",
              "      <td>11</td>\n",
              "      <td>1</td>\n",
              "    </tr>\n",
              "    <tr>\n",
              "      <th>3</th>\n",
              "      <td>7059372</td>\n",
              "      <td>43</td>\n",
              "      <td>4</td>\n",
              "      <td>married</td>\n",
              "      <td>owned</td>\n",
              "      <td>no</td>\n",
              "      <td>4</td>\n",
              "      <td>13</td>\n",
              "      <td>1</td>\n",
              "    </tr>\n",
              "    <tr>\n",
              "      <th>4</th>\n",
              "      <td>3957826</td>\n",
              "      <td>78</td>\n",
              "      <td>13</td>\n",
              "      <td>single</td>\n",
              "      <td>rented</td>\n",
              "      <td>no</td>\n",
              "      <td>11</td>\n",
              "      <td>11</td>\n",
              "      <td>1</td>\n",
              "    </tr>\n",
              "  </tbody>\n",
              "</table>\n",
              "</div>\n",
              "      <button class=\"colab-df-convert\" onclick=\"convertToInteractive('df-32c84e85-beee-46a0-8d9f-bf4438427bef')\"\n",
              "              title=\"Convert this dataframe to an interactive table.\"\n",
              "              style=\"display:none;\">\n",
              "\n",
              "  <svg xmlns=\"http://www.w3.org/2000/svg\" height=\"24px\"viewBox=\"0 0 24 24\"\n",
              "       width=\"24px\">\n",
              "    <path d=\"M0 0h24v24H0V0z\" fill=\"none\"/>\n",
              "    <path d=\"M18.56 5.44l.94 2.06.94-2.06 2.06-.94-2.06-.94-.94-2.06-.94 2.06-2.06.94zm-11 1L8.5 8.5l.94-2.06 2.06-.94-2.06-.94L8.5 2.5l-.94 2.06-2.06.94zm10 10l.94 2.06.94-2.06 2.06-.94-2.06-.94-.94-2.06-.94 2.06-2.06.94z\"/><path d=\"M17.41 7.96l-1.37-1.37c-.4-.4-.92-.59-1.43-.59-.52 0-1.04.2-1.43.59L10.3 9.45l-7.72 7.72c-.78.78-.78 2.05 0 2.83L4 21.41c.39.39.9.59 1.41.59.51 0 1.02-.2 1.41-.59l7.78-7.78 2.81-2.81c.8-.78.8-2.07 0-2.86zM5.41 20L4 18.59l7.72-7.72 1.47 1.35L5.41 20z\"/>\n",
              "  </svg>\n",
              "      </button>\n",
              "\n",
              "\n",
              "\n",
              "    <div id=\"df-ff0abb3b-e307-4af6-84bd-6d4ca48b30a8\">\n",
              "      <button class=\"colab-df-quickchart\" onclick=\"quickchart('df-ff0abb3b-e307-4af6-84bd-6d4ca48b30a8')\"\n",
              "              title=\"Suggest charts.\"\n",
              "              style=\"display:none;\">\n",
              "\n",
              "<svg xmlns=\"http://www.w3.org/2000/svg\" height=\"24px\"viewBox=\"0 0 24 24\"\n",
              "     width=\"24px\">\n",
              "    <g>\n",
              "        <path d=\"M19 3H5c-1.1 0-2 .9-2 2v14c0 1.1.9 2 2 2h14c1.1 0 2-.9 2-2V5c0-1.1-.9-2-2-2zM9 17H7v-7h2v7zm4 0h-2V7h2v10zm4 0h-2v-4h2v4z\"/>\n",
              "    </g>\n",
              "</svg>\n",
              "      </button>\n",
              "    </div>\n",
              "\n",
              "<style>\n",
              "  .colab-df-quickchart {\n",
              "    background-color: #E8F0FE;\n",
              "    border: none;\n",
              "    border-radius: 50%;\n",
              "    cursor: pointer;\n",
              "    display: none;\n",
              "    fill: #1967D2;\n",
              "    height: 32px;\n",
              "    padding: 0 0 0 0;\n",
              "    width: 32px;\n",
              "  }\n",
              "\n",
              "  .colab-df-quickchart:hover {\n",
              "    background-color: #E2EBFA;\n",
              "    box-shadow: 0px 1px 2px rgba(60, 64, 67, 0.3), 0px 1px 3px 1px rgba(60, 64, 67, 0.15);\n",
              "    fill: #174EA6;\n",
              "  }\n",
              "\n",
              "  [theme=dark] .colab-df-quickchart {\n",
              "    background-color: #3B4455;\n",
              "    fill: #D2E3FC;\n",
              "  }\n",
              "\n",
              "  [theme=dark] .colab-df-quickchart:hover {\n",
              "    background-color: #434B5C;\n",
              "    box-shadow: 0px 1px 3px 1px rgba(0, 0, 0, 0.15);\n",
              "    filter: drop-shadow(0px 1px 2px rgba(0, 0, 0, 0.3));\n",
              "    fill: #FFFFFF;\n",
              "  }\n",
              "</style>\n",
              "\n",
              "    <script>\n",
              "      async function quickchart(key) {\n",
              "        const containerElement = document.querySelector('#' + key);\n",
              "        const charts = await google.colab.kernel.invokeFunction(\n",
              "            'suggestCharts', [key], {});\n",
              "      }\n",
              "    </script>\n",
              "\n",
              "      <script>\n",
              "\n",
              "function displayQuickchartButton(domScope) {\n",
              "  let quickchartButtonEl =\n",
              "    domScope.querySelector('#df-ff0abb3b-e307-4af6-84bd-6d4ca48b30a8 button.colab-df-quickchart');\n",
              "  quickchartButtonEl.style.display =\n",
              "    google.colab.kernel.accessAllowed ? 'block' : 'none';\n",
              "}\n",
              "\n",
              "        displayQuickchartButton(document);\n",
              "      </script>\n",
              "      <style>\n",
              "    .colab-df-container {\n",
              "      display:flex;\n",
              "      flex-wrap:wrap;\n",
              "      gap: 12px;\n",
              "    }\n",
              "\n",
              "    .colab-df-convert {\n",
              "      background-color: #E8F0FE;\n",
              "      border: none;\n",
              "      border-radius: 50%;\n",
              "      cursor: pointer;\n",
              "      display: none;\n",
              "      fill: #1967D2;\n",
              "      height: 32px;\n",
              "      padding: 0 0 0 0;\n",
              "      width: 32px;\n",
              "    }\n",
              "\n",
              "    .colab-df-convert:hover {\n",
              "      background-color: #E2EBFA;\n",
              "      box-shadow: 0px 1px 2px rgba(60, 64, 67, 0.3), 0px 1px 3px 1px rgba(60, 64, 67, 0.15);\n",
              "      fill: #174EA6;\n",
              "    }\n",
              "\n",
              "    [theme=dark] .colab-df-convert {\n",
              "      background-color: #3B4455;\n",
              "      fill: #D2E3FC;\n",
              "    }\n",
              "\n",
              "    [theme=dark] .colab-df-convert:hover {\n",
              "      background-color: #434B5C;\n",
              "      box-shadow: 0px 1px 3px 1px rgba(0, 0, 0, 0.15);\n",
              "      filter: drop-shadow(0px 1px 2px rgba(0, 0, 0, 0.3));\n",
              "      fill: #FFFFFF;\n",
              "    }\n",
              "  </style>\n",
              "\n",
              "      <script>\n",
              "        const buttonEl =\n",
              "          document.querySelector('#df-32c84e85-beee-46a0-8d9f-bf4438427bef button.colab-df-convert');\n",
              "        buttonEl.style.display =\n",
              "          google.colab.kernel.accessAllowed ? 'block' : 'none';\n",
              "\n",
              "        async function convertToInteractive(key) {\n",
              "          const element = document.querySelector('#df-32c84e85-beee-46a0-8d9f-bf4438427bef');\n",
              "          const dataTable =\n",
              "            await google.colab.kernel.invokeFunction('convertToInteractive',\n",
              "                                                     [key], {});\n",
              "          if (!dataTable) return;\n",
              "\n",
              "          const docLinkHtml = 'Like what you see? Visit the ' +\n",
              "            '<a target=\"_blank\" href=https://colab.research.google.com/notebooks/data_table.ipynb>data table notebook</a>'\n",
              "            + ' to learn more about interactive tables.';\n",
              "          element.innerHTML = '';\n",
              "          dataTable['output_type'] = 'display_data';\n",
              "          await google.colab.output.renderOutput(dataTable, element);\n",
              "          const docLink = document.createElement('div');\n",
              "          docLink.innerHTML = docLinkHtml;\n",
              "          element.appendChild(docLink);\n",
              "        }\n",
              "      </script>\n",
              "    </div>\n",
              "  </div>\n"
            ]
          },
          "metadata": {},
          "execution_count": 32
        }
      ]
    },
    {
      "cell_type": "markdown",
      "source": [
        "## Exercise 5: Exploratory Data Analysis"
      ],
      "metadata": {
        "id": "p0vRi1J08YII"
      }
    },
    {
      "cell_type": "markdown",
      "source": [
        "**Exercise 5.1:** Investigate the nature of your data, are there missing values in the dataset? If there are, how many missing values are there in the each column?"
      ],
      "metadata": {
        "id": "hPlcysva8i4n"
      }
    },
    {
      "cell_type": "code",
      "source": [
        "loan_data.isnull().sum()"
      ],
      "metadata": {
        "colab": {
          "base_uri": "https://localhost:8080/"
        },
        "id": "GOLc8m4y8liW",
        "outputId": "98b0129b-4ba3-42f7-dac6-d0671c7b89b3"
      },
      "execution_count": null,
      "outputs": [
        {
          "output_type": "execute_result",
          "data": {
            "text/plain": [
              "Income               0\n",
              "Age                  0\n",
              "Experience           0\n",
              "Marital Status       0\n",
              "House_Ownership      0\n",
              "Car_Ownership        0\n",
              "Current_Job_Yrs      0\n",
              "Current_House_Yrs    0\n",
              "Risk_Flag            0\n",
              "dtype: int64"
            ]
          },
          "metadata": {},
          "execution_count": 40
        }
      ]
    },
    {
      "cell_type": "markdown",
      "source": [
        "**Exercise 5.2:** Identify the numerical and categorical"
      ],
      "metadata": {
        "id": "3oimTejf80HV"
      }
    },
    {
      "cell_type": "code",
      "source": [
        "#Get numerical columns variables in the dataset.\n",
        "loan_data.select_dtypes(include=np.number).columns.tolist()"
      ],
      "metadata": {
        "colab": {
          "base_uri": "https://localhost:8080/"
        },
        "id": "dLJN1REn81l8",
        "outputId": "fce50bf4-9fde-48c0-db62-ec90b8317d09"
      },
      "execution_count": null,
      "outputs": [
        {
          "output_type": "execute_result",
          "data": {
            "text/plain": [
              "['Income',\n",
              " 'Age',\n",
              " 'Experience',\n",
              " 'Current_Job_Yrs',\n",
              " 'Current_House_Yrs',\n",
              " 'Risk_Flag']"
            ]
          },
          "metadata": {},
          "execution_count": 41
        }
      ]
    },
    {
      "cell_type": "code",
      "source": [
        "loan_data.select_dtypes(include=\"object\").columns.tolist()"
      ],
      "metadata": {
        "colab": {
          "base_uri": "https://localhost:8080/"
        },
        "id": "7uufrqXm9BKI",
        "outputId": "413b0948-ac63-41d2-caff-a1ecd0bd8b22"
      },
      "execution_count": null,
      "outputs": [
        {
          "output_type": "execute_result",
          "data": {
            "text/plain": [
              "['Marital Status', 'House_Ownership', 'Car_Ownership']"
            ]
          },
          "metadata": {},
          "execution_count": 42
        }
      ]
    },
    {
      "cell_type": "markdown",
      "source": [
        "**Exercise 5.3:** Can you visualize the distribution of categories in the `Marital Status` using a pie chart?"
      ],
      "metadata": {
        "id": "Jzli5XKh9lO1"
      }
    },
    {
      "cell_type": "code",
      "source": [
        "marital_status_categories = [\"single\", \"married\"]\n",
        "data = loan_data['Marital Status'].value_counts().values\n",
        "\n",
        "explode = [0.1, 0]\n",
        "plt.pie(x=data, labels= marital_status_categories, explode=explode, radius=1.5)\n",
        "plt.show()"
      ],
      "metadata": {
        "colab": {
          "base_uri": "https://localhost:8080/",
          "height": 480
        },
        "id": "Fnlbe62o-AU7",
        "outputId": "62248a29-354f-441e-f549-082449c0ab6d"
      },
      "execution_count": null,
      "outputs": [
        {
          "output_type": "display_data",
          "data": {
            "text/plain": [
              "<Figure size 640x480 with 1 Axes>"
            ],
            "image/png": "[encoded data removed]"
          },
          "metadata": {}
        }
      ]
    },
    {
      "cell_type": "markdown",
      "source": [
        "**Exercise 5.3: Confidence Interval**\n",
        "\n",
        "What is the average age of married clients who defaulted on loan repayment. Can you compute the confidence interval for this measure with a confidence interval of 95%?"
      ],
      "metadata": {
        "id": "MIRhB4wK-vMv"
      }
    },
    {
      "cell_type": "code",
      "source": [
        "married = loan_data[loan_data['Marital Status'] == \"married\"]\n",
        "defaulted_married = married[married['Risk_Flag'] == 1]\n",
        "average_age = defaulted_married['Age'].mean()\n",
        "\n",
        "print(\"Mean age of married people who have defaulted on loan repayment:\",average_age)\n",
        "\n",
        "# Calculate the confidence interval using statsmodels\n",
        "confidence_interval = sm.stats.DescrStatsW(defaulted_married['Age']).tconfint_mean(alpha=0.05)\n",
        "\n",
        "print(\"Confidence Interval:\", confidence_interval)"
      ],
      "metadata": {
        "colab": {
          "base_uri": "https://localhost:8080/"
        },
        "id": "-sebYaEF_Qyc",
        "outputId": "a49373c0-5856-4942-dcc9-208880ea4aa0"
      },
      "execution_count": null,
      "outputs": [
        {
          "output_type": "stream",
          "name": "stdout",
          "text": [
            "Mean age of married people who have defaulted on loan repayment: 47.84090909090909\n",
            "Confidence Interval: (43.207801761491716, 52.47401642032647)\n"
          ]
        }
      ]
    },
    {
      "cell_type": "markdown",
      "source": [
        "## Exercise 6: Hypothesis Testing"
      ],
      "metadata": {
        "id": "PDIFKqb76NGC"
      }
    },
    {
      "cell_type": "markdown",
      "source": [
        "#### Problem 3: Here, you will investigate the relationship between marital status and loan default rates.\n",
        "\n",
        "**Case Study:** You are a data scientist working for a financial institution that provides loans to individuals. The institution wants to investigate whether there is a significant difference in loan default rates between married and single individuals.\n",
        "\n",
        "In this case, you will examine the relationship between marital status (married vs. single) and the risk of loan default within a given population. The institution believes that marital status has no effect on loan default risk. You are expected to verify their claim using hypothesis testing.\n",
        "\n",
        "\n"
      ],
      "metadata": {
        "id": "s02y0VZPTN9I"
      }
    },
    {
      "cell_type": "markdown",
      "source": [
        "**Exercise 6.1:** Design a null and alternative hypothesis for this problem."
      ],
      "metadata": {
        "id": "1KepP9Ihwf-u"
      }
    },
    {
      "cell_type": "markdown",
      "source": [
        "\n",
        "- **Null Hypothesis:** There is no significant difference between the default rate in married and single individuals.\n",
        "- **Alternative Hypothesis:** single individuals have a significantly higher default rate than married individuals."
      ],
      "metadata": {
        "id": "pvtLfglhwN2b"
      }
    },
    {
      "cell_type": "markdown",
      "source": [
        "**Exercise 6.2:** What measure do you think is a perfect choice for a test statistic?"
      ],
      "metadata": {
        "id": "WXrcbtrhwf-w"
      }
    },
    {
      "cell_type": "markdown",
      "source": [
        "**Test statistics of choice:** To conduct an hypothesis test using the loan default dataset, you will divide the dataset into two groups: married individuals (Group A) and single individuals (Group B). The test statistic used in this test will be the difference in between the proportion of married and single customers who defaulted.\n",
        "\n",
        "For each group, you will count the number of defaulters (Risk_Flag = 1) and divide it by the total number of individuals in that group. The difference in these proportion will serve as the test statistic."
      ],
      "metadata": {
        "id": "kBD-yYHqUPKg"
      }
    },
    {
      "cell_type": "markdown",
      "source": [
        "**Exercise 6.3:** Verify the claim made by the company using hypothesis testing and a confidence level of 98%. Compute the p-value."
      ],
      "metadata": {
        "id": "QtCf4uVUwf-w"
      }
    },
    {
      "cell_type": "code",
      "source": [
        "# Define the groups based on marital status\n",
        "married_group = #YOUR SOLUTION HERE\n",
        "single_group = #YOUR SOLUTION HERE"
      ],
      "metadata": {
        "id": "KoqJV3AKwf-x"
      },
      "execution_count": null,
      "outputs": []
    },
    {
      "cell_type": "markdown",
      "source": [
        "**Exercise 6.4:** What will be your conclusion based on the p-value obtained from your analysis?\n",
        "\n",
        "1. The p-value we observed is below the 5% cutoff, so we conclude that the data support the alternative hypothesis.\n",
        "2. The p-value we observed is above the 5% cutoff, so we conclude that there is not enough evidence to reject the null hypothesis.\n",
        "3. The p-value we observed is below the 5% cutoff, so we conclude that there is not enough evidence to reject the null hypothesis.\n",
        "4. The p-value we observed is above the 5% cutoff, so we conclude that the data support the alternative hypothesis.\n",
        "\n",
        "Assign `conclusion_3` to the number corresponding to your answer."
      ],
      "metadata": {
        "id": "fFn0DeD9wf-x"
      }
    },
    {
      "cell_type": "code",
      "source": [
        "conclusion_3 = #YOUR SOLUTION HERE"
      ],
      "metadata": {
        "id": "TQh8Osauwf-y"
      },
      "execution_count": null,
      "outputs": []
    },
    {
      "cell_type": "markdown",
      "source": [
        "#### Exercise 7: Classification: Loan default prediction!\n",
        "\n",
        "Now the financial instituton wants you to develop a classification model that predicts the tendency of a customer defaulting on loan repayment if approved. To classify these customers, the institution has provided you with access to data containing customer behaviour and demographics."
      ],
      "metadata": {
        "id": "c80Dx2ihYYHd"
      }
    },
    {
      "cell_type": "markdown",
      "source": [
        "**Exercise 7.1 Encoding Categorical Variables**\n",
        "\n",
        "Here, you will encode the categories present in the categorical variables. This is because computer algorithms only understand number (floats and integers) and not strings."
      ],
      "metadata": {
        "id": "tV3NGdn9FONz"
      }
    },
    {
      "cell_type": "code",
      "source": [
        "loan_data_new = pd.get_dummies(loan_data)\n",
        "loan_data_new.columns"
      ],
      "metadata": {
        "colab": {
          "base_uri": "https://localhost:8080/"
        },
        "id": "qiglvIl94W47",
        "outputId": "6540fb55-213b-4855-8e60-f1319a132e7a"
      },
      "execution_count": null,
      "outputs": [
        {
          "output_type": "execute_result",
          "data": {
            "text/plain": [
              "Index(['Income', 'Age', 'Experience', 'Current_Job_Yrs', 'Current_House_Yrs',\n",
              "       'Risk_Flag', 'Marital Status_married', 'Marital Status_single',\n",
              "       'House_Ownership_norent_noown', 'House_Ownership_owned',\n",
              "       'House_Ownership_rented', 'Car_Ownership_no', 'Car_Ownership_yes'],\n",
              "      dtype='object')"
            ]
          },
          "metadata": {},
          "execution_count": 48
        }
      ]
    },
    {
      "cell_type": "markdown",
      "source": [
        "**Exercise 7.2:** Before you start building the classifier, you need to split the dataset into different portions. Remember that our objective is to build a classifier using customer data for which we know the associated label.\n",
        "\n",
        "- Your task is to split the dataset into two portions: `training` and `testing` sets. Create a testing set with 75% of the data and 25% for the test set. Remember to stratify the target while splitting."
      ],
      "metadata": {
        "id": "GiqMvEttBYz3"
      }
    },
    {
      "cell_type": "code",
      "source": [
        "from sklearn.model_selection import train_test_split\n",
        "predictors = loan_data_new.drop(['Risk_Flag'],1)\n",
        "target = loan_data_new['Risk_Flag']\n",
        "X_train, X_test, y_train, y_test = train_test_split(\n",
        "    predictors.values, target.values, test_size=0.25, random_state=35, stratify=target,\n",
        ")"
      ],
      "metadata": {
        "id": "gnChGB7fCLZb",
        "colab": {
          "base_uri": "https://localhost:8080/"
        },
        "outputId": "9c4a9575-832a-4d09-8050-900693457a31"
      },
      "execution_count": null,
      "outputs": [
        {
          "output_type": "stream",
          "name": "stderr",
          "text": [
            "<ipython-input-55-6f7c4d7d3b19>:2: FutureWarning: In a future version of pandas all arguments of DataFrame.drop except for the argument 'labels' will be keyword-only.\n",
            "  predictors = loan_data_new.drop(['Risk_Flag'],1)\n"
          ]
        }
      ]
    },
    {
      "cell_type": "markdown",
      "source": [
        "**Exercise 7.3: KNearest Neighbors Classifier**\n",
        "\n",
        "Develop a KNN model on the training dataset. `k` can be any integer, but an odd value is typically recommended for ease of handling ties."
      ],
      "metadata": {
        "id": "2whGnbJq5avO"
      }
    },
    {
      "cell_type": "code",
      "source": [
        "from sklearn.neighbors import KNeighborsClassifier\n",
        "KNN_classifier = KNeighborsClassifier(n_neighbors=5)\n",
        "KNN_classifier.fit(X_train, y_train)"
      ],
      "metadata": {
        "colab": {
          "base_uri": "https://localhost:8080/",
          "height": 74
        },
        "id": "XpRMLk7u5jkm",
        "outputId": "13437c29-4565-4d3a-9f1b-4365d4018e3e"
      },
      "execution_count": null,
      "outputs": [
        {
          "output_type": "execute_result",
          "data": {
            "text/plain": [
              "KNeighborsClassifier()"
            ],
            "text/html": [
              "<style>#sk-container-id-5 {color: black;background-color: white;}#sk-container-id-5 pre{padding: 0;}#sk-container-id-5 div.sk-toggleable {background-color: white;}#sk-container-id-5 label.sk-toggleable__label {cursor: pointer;display: block;width: 100%;margin-bottom: 0;padding: 0.3em;box-sizing: border-box;text-align: center;}#sk-container-id-5 label.sk-toggleable__label-arrow:before {content: \"▸\";float: left;margin-right: 0.25em;color: #696969;}#sk-container-id-5 label.sk-toggleable__label-arrow:hover:before {color: black;}#sk-container-id-5 div.sk-estimator:hover label.sk-toggleable__label-arrow:before {color: black;}#sk-container-id-5 div.sk-toggleable__content {max-height: 0;max-width: 0;overflow: hidden;text-align: left;background-color: #f0f8ff;}#sk-container-id-5 div.sk-toggleable__content pre {margin: 0.2em;color: black;border-radius: 0.25em;background-color: #f0f8ff;}#sk-container-id-5 input.sk-toggleable__control:checked~div.sk-toggleable__content {max-height: 200px;max-width: 100%;overflow: auto;}#sk-container-id-5 input.sk-toggleable__control:checked~label.sk-toggleable__label-arrow:before {content: \"▾\";}#sk-container-id-5 div.sk-estimator input.sk-toggleable__control:checked~label.sk-toggleable__label {background-color: #d4ebff;}#sk-container-id-5 div.sk-label input.sk-toggleable__control:checked~label.sk-toggleable__label {background-color: #d4ebff;}#sk-container-id-5 input.sk-hidden--visually {border: 0;clip: rect(1px 1px 1px 1px);clip: rect(1px, 1px, 1px, 1px);height: 1px;margin: -1px;overflow: hidden;padding: 0;position: absolute;width: 1px;}#sk-container-id-5 div.sk-estimator {font-family: monospace;background-color: #f0f8ff;border: 1px dotted black;border-radius: 0.25em;box-sizing: border-box;margin-bottom: 0.5em;}#sk-container-id-5 div.sk-estimator:hover {background-color: #d4ebff;}#sk-container-id-5 div.sk-parallel-item::after {content: \"\";width: 100%;border-bottom: 1px solid gray;flex-grow: 1;}#sk-container-id-5 div.sk-label:hover label.sk-toggleable__label {background-color: #d4ebff;}#sk-container-id-5 div.sk-serial::before {content: \"\";position: absolute;border-left: 1px solid gray;box-sizing: border-box;top: 0;bottom: 0;left: 50%;z-index: 0;}#sk-container-id-5 div.sk-serial {display: flex;flex-direction: column;align-items: center;background-color: white;padding-right: 0.2em;padding-left: 0.2em;position: relative;}#sk-container-id-5 div.sk-item {position: relative;z-index: 1;}#sk-container-id-5 div.sk-parallel {display: flex;align-items: stretch;justify-content: center;background-color: white;position: relative;}#sk-container-id-5 div.sk-item::before, #sk-container-id-5 div.sk-parallel-item::before {content: \"\";position: absolute;border-left: 1px solid gray;box-sizing: border-box;top: 0;bottom: 0;left: 50%;z-index: -1;}#sk-container-id-5 div.sk-parallel-item {display: flex;flex-direction: column;z-index: 1;position: relative;background-color: white;}#sk-container-id-5 div.sk-parallel-item:first-child::after {align-self: flex-end;width: 50%;}#sk-container-id-5 div.sk-parallel-item:last-child::after {align-self: flex-start;width: 50%;}#sk-container-id-5 div.sk-parallel-item:only-child::after {width: 0;}#sk-container-id-5 div.sk-dashed-wrapped {border: 1px dashed gray;margin: 0 0.4em 0.5em 0.4em;box-sizing: border-box;padding-bottom: 0.4em;background-color: white;}#sk-container-id-5 div.sk-label label {font-family: monospace;font-weight: bold;display: inline-block;line-height: 1.2em;}#sk-container-id-5 div.sk-label-container {text-align: center;}#sk-container-id-5 div.sk-container {/* jupyter's `normalize.less` sets `[hidden] { display: none; }` but bootstrap.min.css set `[hidden] { display: none !important; }` so we also need the `!important` here to be able to override the default hidden behavior on the sphinx rendered scikit-learn.org. See: https://github.com/scikit-learn/scikit-learn/issues/21755 */display: inline-block !important;position: relative;}#sk-container-id-5 div.sk-text-repr-fallback {display: none;}</style><div id=\"sk-container-id-5\" class=\"sk-top-container\"><div class=\"sk-text-repr-fallback\"><pre>KNeighborsClassifier()</pre><b>In a Jupyter environment, please rerun this cell to show the HTML representation or trust the notebook. <br />On GitHub, the HTML representation is unable to render, please try loading this page with nbviewer.org.</b></div><div class=\"sk-container\" hidden><div class=\"sk-item\"><div class=\"sk-estimator sk-toggleable\"><input class=\"sk-toggleable__control sk-hidden--visually\" id=\"sk-estimator-id-5\" type=\"checkbox\" checked><label for=\"sk-estimator-id-5\" class=\"sk-toggleable__label sk-toggleable__label-arrow\">KNeighborsClassifier</label><div class=\"sk-toggleable__content\"><pre>KNeighborsClassifier()</pre></div></div></div></div></div>"
            ]
          },
          "metadata": {},
          "execution_count": 62
        }
      ]
    },
    {
      "cell_type": "markdown",
      "source": [
        "**Exercise 7.4: Model Evaluation and Prediction**\n",
        "\n",
        "Evaluating our model is very crucial. This is the reason why we dicided our dataset in the first place! Can you make predictions for patients in the test set. Additionally, you are to evaluate the performance of your classifier  on the test set using accuracy?"
      ],
      "metadata": {
        "id": "ltjKVlDdD_qA"
      }
    },
    {
      "cell_type": "code",
      "source": [
        "#make predictions\n",
        "predictions = KNN_classifier.predict(X_test)\n",
        "\n",
        "#evaluate model performance\n",
        "from sklearn.metrics import accuracy_score\n",
        "print(f\"Accuracy on test set: {accuracy_score(y_test,predictions)}\")"
      ],
      "metadata": {
        "colab": {
          "base_uri": "https://localhost:8080/"
        },
        "id": "dVMJj1ut5WFm",
        "outputId": "6ffc28ca-236d-41d4-9a8b-d62895287f79"
      },
      "execution_count": null,
      "outputs": [
        {
          "output_type": "stream",
          "name": "stdout",
          "text": [
            "Accuracy on test set: 0.595\n"
          ]
        }
      ]
    },
    {
      "cell_type": "markdown",
      "source": [
        "**Exercise 7.5:** Do you think that there is an optimal value of k?? Investigate and obtain the optimal value of k within the range of (1,8) for which a k-Nearest Neighbor classifier would predict best.\n",
        "Assign the value to `optimal_k`."
      ],
      "metadata": {
        "id": "Unwg-RcIClL5"
      }
    },
    {
      "cell_type": "code",
      "source": [
        "#Your solution here\n",
        "accuracy = []\n",
        "for k in range(1,9):\n",
        "    KNN_classifier = KNeighborsClassifier(n_neighbors=k)\n",
        "    KNN_classifier.fit(X_train, y_train)\n",
        "    predictions = KNN_classifier.predict(X_test)\n",
        "    accuracy.append(accuracy_score(y_test,predictions))\n",
        "\n",
        "optimal_k = np.argmax(accuracy)+1\n",
        "print(f\"Optimal K: {optimal_k},Test accuracy: {accuracy[optimal_k-1]}\")"
      ],
      "metadata": {
        "id": "q33sAfZMC8oX",
        "colab": {
          "base_uri": "https://localhost:8080/"
        },
        "outputId": "aecc08b9-d924-4d1b-f097-ee88d6ff1699"
      },
      "execution_count": null,
      "outputs": [
        {
          "output_type": "stream",
          "name": "stdout",
          "text": [
            "Optimal K: 4,Test accuracy: 0.6275\n"
          ]
        }
      ]
    },
    {
      "cell_type": "code",
      "source": [
        "accuracy"
      ],
      "metadata": {
        "colab": {
          "base_uri": "https://localhost:8080/"
        },
        "id": "5En9gfeuBTm4",
        "outputId": "0ca7e270-23be-4b5b-935d-bd7520244cbe"
      },
      "execution_count": null,
      "outputs": [
        {
          "output_type": "execute_result",
          "data": {
            "text/plain": [
              "[0.5975, 0.625, 0.5975, 0.6275, 0.595, 0.605, 0.5625, 0.5875]"
            ]
          },
          "metadata": {},
          "execution_count": 65
        }
      ]
    },
    {
      "cell_type": "markdown",
      "source": [
        "Congratulations! We have dealt extensively with data analysis, visualization, statistical analysis and introductory machine learning."
      ],
      "metadata": {
        "id": "wW4PFBAeBsbA"
      }
    }
  ]
}